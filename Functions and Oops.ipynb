{
 "cells": [
  {
   "cell_type": "code",
   "execution_count": 1,
   "id": "863d9bb3-f0cd-4bcf-a686-5362f68a2b99",
   "metadata": {},
   "outputs": [
    {
     "data": {
      "text/plain": [
       "'Functions help in breaking down a large problem into smaller, manageable tasks. They provide reusability, reduce redundancy, and improve code readability'"
      ]
     },
     "execution_count": 1,
     "metadata": {},
     "output_type": "execute_result"
    }
   ],
   "source": [
    "#Answer 1\n",
    "\n",
    "'''Functions help in breaking down a large problem into smaller, manageable tasks. They provide reusability, reduce redundancy, and improve code readability'''"
   ]
  },
  {
   "cell_type": "code",
   "execution_count": 2,
   "id": "dfda4c19-b2fa-4dff-b212-54d3c30b30fc",
   "metadata": {},
   "outputs": [
    {
     "name": "stdout",
     "output_type": "stream",
     "text": [
      "Hello, students! Welcome to the Python class of Rab Data Magic.\n"
     ]
    }
   ],
   "source": [
    "#Answer 2\n",
    "\n",
    "def greet_students():\n",
    "    print(\"Hello, students! Welcome to the Python class of Rab Data Magic.\")\n",
    "greet_students()\n"
   ]
  },
  {
   "cell_type": "code",
   "execution_count": 3,
   "id": "89f27cbd-6829-4db4-b250-d560a0c90475",
   "metadata": {},
   "outputs": [
    {
     "data": {
      "text/plain": [
       "' print-displays the output to the console but does not allow further use of the value. return-exits the function and passes a value back to the caller, allowing it to be used later.'"
      ]
     },
     "execution_count": 3,
     "metadata": {},
     "output_type": "execute_result"
    }
   ],
   "source": [
    "#Answer 3\n",
    "''' print-displays the output to the console but does not allow further use of the value. return-exits the function and passes a value back to the caller, allowing it to be used later.'''"
   ]
  },
  {
   "cell_type": "code",
   "execution_count": 4,
   "id": "1a432635-0def-461d-a958-2e859e8d67b4",
   "metadata": {},
   "outputs": [
    {
     "data": {
      "text/plain": [
       "' args: Allows passing a variable number of non-keyword arguments. kwargs: Allows passing a variable number of keyword arguments.'"
      ]
     },
     "execution_count": 4,
     "metadata": {},
     "output_type": "execute_result"
    }
   ],
   "source": [
    "\n",
    "#Answer 4\n",
    "''' args: Allows passing a variable number of non-keyword arguments. kwargs: Allows passing a variable number of keyword arguments.'''"
   ]
  },
  {
   "cell_type": "code",
   "execution_count": 5,
   "id": "3190edac-dd5b-4e7a-b5f1-c9467eb9e881",
   "metadata": {},
   "outputs": [
    {
     "data": {
      "text/plain": [
       "'An iterator is an object that contains a countable number of values. It implements the iter() and next() methods to return data one element at a time.'"
      ]
     },
     "execution_count": 5,
     "metadata": {},
     "output_type": "execute_result"
    }
   ],
   "source": [
    "#Answer 5\n",
    "'''An iterator is an object that contains a countable number of values. It implements the iter() and next() methods to return data one element at a time.'''\n"
   ]
  },
  {
   "cell_type": "code",
   "execution_count": 6,
   "id": "d67d0a38-cc88-4ce4-ad6e-2819b90111ee",
   "metadata": {},
   "outputs": [
    {
     "name": "stdout",
     "output_type": "stream",
     "text": [
      "1 4 9 16 25 36 49 64 81 100 "
     ]
    }
   ],
   "source": [
    "#Answer 6\n",
    "def generate_squares(n):\n",
    "    for i in range(1, n+1):\n",
    "        yield i ** 2\n",
    "\n",
    "n = 10\n",
    "squares = generate_squares(n)\n",
    "for square in squares:\n",
    "    print(square, end = ' ')"
   ]
  },
  {
   "cell_type": "code",
   "execution_count": 7,
   "id": "1a128c44-8f06-4e20-a26b-7952b847b93e",
   "metadata": {},
   "outputs": [
    {
     "name": "stdout",
     "output_type": "stream",
     "text": [
      "1 2 3 4 5 6 7 8 9 11 22 33 44 55 66 77 88 99 "
     ]
    }
   ],
   "source": [
    "#Answer 7\n",
    "\n",
    "def generate_palindromes(n):\n",
    "    for i in range(1, n+1):\n",
    "        if str(i) == str(i)[::-1]:\n",
    "            yield i\n",
    "\n",
    "n = 100\n",
    "palindromes = generate_palindromes(n)\n",
    "for palindrome in palindromes:\n",
    "    print(palindrome, end = ' ')"
   ]
  },
  {
   "cell_type": "code",
   "execution_count": 8,
   "id": "c9ac5b8f-186b-451c-a7f7-1dced4964f9f",
   "metadata": {},
   "outputs": [
    {
     "name": "stdout",
     "output_type": "stream",
     "text": [
      "2 4 6 8 10 12 14 16 18 20 "
     ]
    }
   ],
   "source": [
    "#Answer 8\n",
    "def generate_even_numbers(n):\n",
    "    for i in range(2,n+1,2):\n",
    "        yield i\n",
    "        \n",
    "n = 20\n",
    "evens = generate_even_numbers(n)\n",
    "for even in evens:\n",
    "    print(even,end = ' ')"
   ]
  },
  {
   "cell_type": "code",
   "execution_count": 9,
   "id": "a6deb8cc-2f00-4c2c-ad36-18363ae8d816",
   "metadata": {},
   "outputs": [
    {
     "name": "stdout",
     "output_type": "stream",
     "text": [
      "1 2 4 8 16 32 64 128 256 512 "
     ]
    }
   ],
   "source": [
    "#Answer 9\n",
    "def generate_powers_of_two(n):\n",
    "    for i in range(n):\n",
    "        yield 2 ** i\n",
    "\n",
    "\n",
    "n = 10\n",
    "powers_of_two = generate_powers_of_two(n)\n",
    "for power in powers_of_two:\n",
    "    print(power,end = ' ')"
   ]
  },
  {
   "cell_type": "code",
   "execution_count": 10,
   "id": "b71334fd-68bf-451c-9fe6-cc5da8928720",
   "metadata": {},
   "outputs": [
    {
     "name": "stdout",
     "output_type": "stream",
     "text": [
      "2 3 5 7 11 13 17 19 23 29 31 37 41 43 47 "
     ]
    }
   ],
   "source": [
    "#Answer 10\n",
    "def generate_primes(n):\n",
    "    \n",
    "    def is_prime(num):\n",
    "        if num < 2:\n",
    "            return False\n",
    "        for i in range(2, int(num ** 0.5) + 1):\n",
    "            if num % i == 0:\n",
    "                return False\n",
    "        return True\n",
    "\n",
    "    for i in range(2, n + 1):\n",
    "        if is_prime(i):\n",
    "            yield i\n",
    "\n",
    "n = 50 \n",
    "primes = generate_primes(n)\n",
    "for prime in primes:\n",
    "    print(prime,end = ' ')"
   ]
  },
  {
   "cell_type": "code",
   "execution_count": 11,
   "id": "fe7ec809-426a-46ac-a997-84de2da4eca0",
   "metadata": {},
   "outputs": [
    {
     "name": "stdout",
     "output_type": "stream",
     "text": [
      "5\n"
     ]
    }
   ],
   "source": [
    "#Answer 11\n",
    "add = lambda x,y: x + y\n",
    "print(add(2,3))"
   ]
  },
  {
   "cell_type": "code",
   "execution_count": 12,
   "id": "3400c959-e888-4e97-94bd-b9aaa5167b7b",
   "metadata": {},
   "outputs": [
    {
     "name": "stdout",
     "output_type": "stream",
     "text": [
      "4\n"
     ]
    }
   ],
   "source": [
    "#Answer 12\n",
    "square = lambda x : x*2\n",
    "print(square(2))"
   ]
  },
  {
   "cell_type": "code",
   "execution_count": 13,
   "id": "705c4b64-bd14-4248-b926-75c353b00e2b",
   "metadata": {},
   "outputs": [
    {
     "name": "stdout",
     "output_type": "stream",
     "text": [
      "Odd\n",
      "even\n"
     ]
    }
   ],
   "source": [
    "#Answer 13\n",
    "\n",
    "is_even = lambda x : \"even\" if x%2 == 0 else \"Odd\"\n",
    "print(is_even(5))\n",
    "print(is_even(6))"
   ]
  },
  {
   "cell_type": "code",
   "execution_count": 14,
   "id": "55dc5f01-b8e5-4dbb-93de-e7575f121591",
   "metadata": {},
   "outputs": [
    {
     "name": "stdout",
     "output_type": "stream",
     "text": [
      "arvindverma\n"
     ]
    }
   ],
   "source": [
    "#Answer 15\n",
    "\n",
    "concat_string = lambda x ,y : x + y\n",
    "print(concat_string(\"arvind\",\"verma\"))\n"
   ]
  },
  {
   "cell_type": "code",
   "execution_count": 15,
   "id": "9b7361ea-667b-4107-a04e-2bf1ea24d0a4",
   "metadata": {},
   "outputs": [
    {
     "name": "stdout",
     "output_type": "stream",
     "text": [
      "20\n"
     ]
    }
   ],
   "source": [
    "#Ans16\n",
    "max_of_three = lambda a, b, c: max(a, b, c)\n",
    "print(max_of_three(10, 20, 15))"
   ]
  },
  {
   "cell_type": "code",
   "execution_count": 16,
   "id": "b70e90af-1d7a-4685-abc8-4fd138603dc1",
   "metadata": {},
   "outputs": [
    {
     "name": "stdout",
     "output_type": "stream",
     "text": [
      "[4, 16, 36]\n"
     ]
    }
   ],
   "source": [
    "#Answer 17\n",
    "def square_even_numbers(numbers):\n",
    "    return [i ** 2 for i in numbers if i% 2 == 0] \n",
    "\n",
    "numbers = [1,2,3,4,5,6,7]\n",
    "print(square_even_numbers(numbers))"
   ]
  },
  {
   "cell_type": "code",
   "execution_count": 17,
   "id": "7f60ffce-bd97-49df-87b8-0972a1073670",
   "metadata": {},
   "outputs": [
    {
     "name": "stdout",
     "output_type": "stream",
     "text": [
      "40\n"
     ]
    }
   ],
   "source": [
    "#Answer 18\n",
    "\n",
    "from functools import reduce\n",
    "\n",
    "def product_of_positive(lst):\n",
    "    return reduce(lambda x, y: x * y, [i for i in lst if i > 0])\n",
    "\n",
    "numbers = [-1, 2, -3, 4, 5]\n",
    "print(product_of_positive(numbers))"
   ]
  },
  {
   "cell_type": "code",
   "execution_count": 18,
   "id": "b3a89d07-edf1-4ec3-8593-4b18925ad91e",
   "metadata": {},
   "outputs": [
    {
     "name": "stdout",
     "output_type": "stream",
     "text": [
      "[2, 6, 10]\n"
     ]
    }
   ],
   "source": [
    "#Answer 19\n",
    "def double_odd_numbers(lst):\n",
    "    return [x * 2 for x in lst if x % 2 != 0]\n",
    "\n",
    "numbers = [1,2,3,4,5]\n",
    "print(double_odd_numbers(numbers))"
   ]
  },
  {
   "cell_type": "code",
   "execution_count": 19,
   "id": "722ecbec-67e5-43ef-9568-e515846e3021",
   "metadata": {},
   "outputs": [
    {
     "name": "stdout",
     "output_type": "stream",
     "text": [
      "441\n"
     ]
    }
   ],
   "source": [
    "#Answer 20\n",
    "def cubes_list(num):\n",
    "    return sum(i ** 3 for i in num)\n",
    "\n",
    "list = [1,2,3,4,5,6]\n",
    "print(cubes_list(list))"
   ]
  },
  {
   "cell_type": "code",
   "execution_count": 20,
   "id": "0dcdbcf9-b25e-4470-8104-6328bb305a84",
   "metadata": {},
   "outputs": [
    {
     "name": "stdout",
     "output_type": "stream",
     "text": [
      "[4, 6, 8, 9, 10]\n"
     ]
    }
   ],
   "source": [
    "#Answer 21\n",
    "\n",
    "def is_prime(num):\n",
    "    if num < 2:\n",
    "        return False\n",
    "    for i in range(2, int(num ** 0.5) + 1):\n",
    "        if num % i == 0:\n",
    "            return False\n",
    "    return True\n",
    "\n",
    "def filter_primes(lst):\n",
    "    return [x for x in lst if not is_prime(x)]\n",
    "\n",
    "numbers = [2, 3, 4, 5, 6, 7, 8, 9, 10]\n",
    "print(filter_primes(numbers))"
   ]
  },
  {
   "cell_type": "code",
   "execution_count": 21,
   "id": "763e2795-223a-4f26-b74b-98e7db2cc2d5",
   "metadata": {},
   "outputs": [
    {
     "name": "stdout",
     "output_type": "stream",
     "text": [
      "8\n"
     ]
    }
   ],
   "source": [
    "#Answer 22\n",
    "\n",
    "sum_of_two = lambda x,y:x + y\n",
    "print(sum_of_two(3,5))"
   ]
  },
  {
   "cell_type": "code",
   "execution_count": 22,
   "id": "0b46b8a4-0169-4a1a-b2df-ac580f75291a",
   "metadata": {},
   "outputs": [
    {
     "name": "stdout",
     "output_type": "stream",
     "text": [
      "9\n"
     ]
    }
   ],
   "source": [
    "#Answer 23\n",
    "square = lambda x:x**2\n",
    "print(square(3))"
   ]
  },
  {
   "cell_type": "code",
   "execution_count": 23,
   "id": "0e791c13-7658-4c29-9412-50a1f62b5cc0",
   "metadata": {},
   "outputs": [
    {
     "name": "stdout",
     "output_type": "stream",
     "text": [
      "odd\n",
      "even\n"
     ]
    }
   ],
   "source": [
    "#Answer 24\n",
    "is_even = lambda x : \"even\" if x % 2 == 0 else 'odd'\n",
    "print(is_even(3))\n",
    "print(is_even(6))"
   ]
  },
  {
   "cell_type": "code",
   "execution_count": 24,
   "id": "3b5c5578-7a02-426a-876b-c86c53381e3f",
   "metadata": {},
   "outputs": [
    {
     "name": "stdout",
     "output_type": "stream",
     "text": [
      "arvind verma\n"
     ]
    }
   ],
   "source": [
    "#Answer 25\n",
    "\n",
    "concat = lambda x ,y: x + y\n",
    "print(concat(\"arvind\",\" verma\"))"
   ]
  },
  {
   "cell_type": "code",
   "execution_count": 25,
   "id": "0e14304d-6d4d-4631-8215-c1588df0017a",
   "metadata": {},
   "outputs": [
    {
     "name": "stdout",
     "output_type": "stream",
     "text": [
      "3\n"
     ]
    }
   ],
   "source": [
    "#Answer 26\n",
    "\n",
    "max1 = lambda x,y,z :max(x,y,z)\n",
    "print(max1(1,2,3))"
   ]
  },
  {
   "cell_type": "code",
   "execution_count": 26,
   "id": "24cb62c4-1863-4649-9a47-07b642dfac5a",
   "metadata": {},
   "outputs": [
    {
     "data": {
      "text/plain": [
       "\"Encapsulation in Object-Oriented Programming (OOP) refers to the bundling of data and methods that operate on the data within a single unit or class. It restricts direct access to some of an object's components and prevents accidental modification of data by hiding the internal representation of the object.\""
      ]
     },
     "execution_count": 26,
     "metadata": {},
     "output_type": "execute_result"
    }
   ],
   "source": [
    "#Answer 27\n",
    "'''Encapsulation in Object-Oriented Programming (OOP) refers to the bundling of data and methods that operate on the data within a single unit or class. It restricts direct access to some of an object's components and prevents accidental modification of data by hiding the internal representation of the object.'''"
   ]
  },
  {
   "cell_type": "code",
   "execution_count": 27,
   "id": "1dfe555b-7724-4b54-9cd8-e2eef220aeef",
   "metadata": {},
   "outputs": [
    {
     "data": {
      "text/plain": [
       "'Public: Attributes and methods are accessible from anywhere. (No leading underscores) Protected: Attributes are indicated with a single leading underscore (_) and should not be accessed outside the class or subclass. Private: Attributes are indicated with a double leading underscore (__). They cannot be accessed directly outside the class.'"
      ]
     },
     "execution_count": 27,
     "metadata": {},
     "output_type": "execute_result"
    }
   ],
   "source": [
    "#Answer 28\n",
    "'''Public: Attributes and methods are accessible from anywhere. (No leading underscores) Protected: Attributes are indicated with a single leading underscore (_) and should not be accessed outside the class or subclass. Private: Attributes are indicated with a double leading underscore (__). They cannot be accessed directly outside the class.'''"
   ]
  },
  {
   "cell_type": "code",
   "execution_count": 28,
   "id": "c5eab5cb-5be4-44b0-8015-b2dc48cadc61",
   "metadata": {},
   "outputs": [
    {
     "data": {
      "text/plain": [
       "'Inheritance allows a class (child or derived class) to inherit attributes and methods from another class (parent or base class). This promotes code reusability and hierarchical classification.'"
      ]
     },
     "execution_count": 28,
     "metadata": {},
     "output_type": "execute_result"
    }
   ],
   "source": [
    "#Ans29-\n",
    "'''Inheritance allows a class (child or derived class) to inherit attributes and methods from another class (parent or base class). This promotes code reusability and hierarchical classification.'''"
   ]
  },
  {
   "cell_type": "code",
   "execution_count": 29,
   "id": "b8a1175c-3a77-4f4a-b042-9b24bdcb21e5",
   "metadata": {},
   "outputs": [
    {
     "data": {
      "text/plain": [
       "'Polymorphism allows objects of different classes to be treated as objects of a common superclass. It enables a single function or method to work in different ways based on the object calling it.'"
      ]
     },
     "execution_count": 29,
     "metadata": {},
     "output_type": "execute_result"
    }
   ],
   "source": [
    "#Ans30-\n",
    "'''Polymorphism allows objects of different classes to be treated as objects of a common superclass. It enables a single function or method to work in different ways based on the object calling it.'''"
   ]
  },
  {
   "cell_type": "code",
   "execution_count": 30,
   "id": "8770750b-c11b-4fe8-9445-ddb7c4faec2b",
   "metadata": {},
   "outputs": [
    {
     "data": {
      "text/plain": [
       "'Method overriding allows a child class to provide its specific implementation of a method already defined in the parent class. This enables different behavior for the same method.'"
      ]
     },
     "execution_count": 30,
     "metadata": {},
     "output_type": "execute_result"
    }
   ],
   "source": [
    "#Ans31\n",
    "'''Method overriding allows a child class to provide its specific implementation of a method already defined in the parent class. This enables different behavior for the same method.'''"
   ]
  },
  {
   "cell_type": "code",
   "execution_count": 31,
   "id": "e22fa978-d8b4-4769-b242-a5a8e3431b52",
   "metadata": {},
   "outputs": [
    {
     "name": "stdout",
     "output_type": "stream",
     "text": [
      "Woof!\n"
     ]
    }
   ],
   "source": [
    "#Ans32\n",
    "class Animal:\n",
    "    def make_sound(self):\n",
    "        print(\"Generic animal sound\")\n",
    "\n",
    "class Dog(Animal):\n",
    "    def make_sound(self):\n",
    "        print(\"Woof!\")\n",
    "\n",
    "# Test\n",
    "dog = Dog()\n",
    "dog.make_sound()"
   ]
  },
  {
   "cell_type": "code",
   "execution_count": 32,
   "id": "ec7e0d2b-23c8-4fb6-aff5-030fe8f197e3",
   "metadata": {},
   "outputs": [],
   "source": [
    "#Ans33\n",
    "class Animal:\n",
    "    def move(self):\n",
    "        print(\"Animal moves\")\n",
    "\n",
    "class Dog(Animal):\n",
    "    def move(self):\n",
    "        print(\"Dog runs.\")\n",
    "    "
   ]
  },
  {
   "cell_type": "code",
   "execution_count": 33,
   "id": "5a0bcc28-1b93-499d-8388-04fc01dec226",
   "metadata": {},
   "outputs": [
    {
     "name": "stdout",
     "output_type": "stream",
     "text": [
      "Dog runs.\n"
     ]
    }
   ],
   "source": [
    "dog = Dog()\n",
    "dog.move()"
   ]
  },
  {
   "cell_type": "code",
   "execution_count": 34,
   "id": "15ee4180-9818-4a6d-9f51-17e48e6ef66d",
   "metadata": {},
   "outputs": [],
   "source": [
    "#Ans 34\n",
    "\n",
    "class Mammal:\n",
    "    def reproduce(self):\n",
    "        print(\"Giving birth to live young\")\n",
    "\n",
    "class DogMammal(Dog,Mammal):\n",
    "    pass "
   ]
  },
  {
   "cell_type": "code",
   "execution_count": 35,
   "id": "a8fdf117-7915-4326-a53f-d75fa4bece4c",
   "metadata": {},
   "outputs": [
    {
     "name": "stdout",
     "output_type": "stream",
     "text": [
      "Giving birth to live young\n"
     ]
    }
   ],
   "source": [
    "dog_mammal = DogMammal()\n",
    "dog_mammal.reproduce()"
   ]
  },
  {
   "cell_type": "code",
   "execution_count": 36,
   "id": "3c8fd6c0-a1b5-4c37-95db-8dc6fcc3999d",
   "metadata": {},
   "outputs": [],
   "source": [
    "#Ans 35\n",
    "\n",
    "class GermanShephard(Dog):\n",
    "    def make_sound(self):\n",
    "        print(\"Bark\")"
   ]
  },
  {
   "cell_type": "code",
   "execution_count": 37,
   "id": "04d49783-05f6-4fd2-b547-d74b2cec39e2",
   "metadata": {},
   "outputs": [],
   "source": [
    "dog = GermanShephard()"
   ]
  },
  {
   "cell_type": "code",
   "execution_count": 38,
   "id": "ea5e2780-6dfa-452b-9b51-4608c9caab0b",
   "metadata": {},
   "outputs": [
    {
     "name": "stdout",
     "output_type": "stream",
     "text": [
      "Bark\n"
     ]
    }
   ],
   "source": [
    "dog.make_sound()"
   ]
  },
  {
   "cell_type": "code",
   "execution_count": 39,
   "id": "fe9f5ed2-8481-4678-8350-2cf25326a66e",
   "metadata": {},
   "outputs": [
    {
     "name": "stdout",
     "output_type": "stream",
     "text": [
      "Animal created :Canine\n",
      "Dog created :Labrador\n"
     ]
    }
   ],
   "source": [
    "#Answer 36\n",
    "\n",
    "class Animal:\n",
    "    def __init__(self,species):\n",
    "        self.species = species\n",
    "        print(f\"Animal created :{species}\")\n",
    "\n",
    "class Dog(Animal):\n",
    "    def __init__(self,species,breed):\n",
    "        super().__init__(species)\n",
    "        self.breed = breed\n",
    "        print(f\"Dog created :{breed}\")\n",
    "#Test\n",
    "dog = Dog(\"Canine\", \"Labrador\")"
   ]
  },
  {
   "cell_type": "code",
   "execution_count": 40,
   "id": "baba1ed9-9b37-4efc-8b40-6052714e5b5f",
   "metadata": {},
   "outputs": [
    {
     "data": {
      "text/plain": [
       "'Abstraction hides the complexity of the system and shows only essential details. In Python, abstraction can be implemented using abstract classes and interfaces (from the abc module).'"
      ]
     },
     "execution_count": 40,
     "metadata": {},
     "output_type": "execute_result"
    }
   ],
   "source": [
    "#Answer 37\n",
    "\n",
    "'''Abstraction hides the complexity of the system and shows only essential details. In Python, abstraction can be implemented using abstract classes and interfaces (from the abc module).'''"
   ]
  },
  {
   "cell_type": "code",
   "execution_count": 41,
   "id": "21c3e2a9-9f01-4e94-9d0c-41b837fd3330",
   "metadata": {},
   "outputs": [
    {
     "data": {
      "text/plain": [
       "'Abstraction simplifies complex systems by focusing on the essential details, improving code maintainability, readability, and reducing complexity.'"
      ]
     },
     "execution_count": 41,
     "metadata": {},
     "output_type": "execute_result"
    }
   ],
   "source": [
    "#Answer 38\n",
    "\n",
    "'''Abstraction simplifies complex systems by focusing on the essential details, improving code maintainability, readability, and reducing complexity.'''"
   ]
  },
  {
   "cell_type": "code",
   "execution_count": 42,
   "id": "62110634-9c64-4ae1-82cb-588ace5c4bb6",
   "metadata": {},
   "outputs": [
    {
     "data": {
      "text/plain": [
       "'Abstract methods are defined in an abstract class but do not have any implementation. They must be implemented in child classes, while regular methods have an implementation in the base class.'"
      ]
     },
     "execution_count": 42,
     "metadata": {},
     "output_type": "execute_result"
    }
   ],
   "source": [
    "#Answer 39\n",
    "\n",
    "'''Abstract methods are defined in an abstract class but do not have any implementation. They must be implemented in child classes, while regular methods have an implementation in the base class.'''"
   ]
  },
  {
   "cell_type": "code",
   "execution_count": 43,
   "id": "0ee9e2a4-56d8-46bb-9cbe-68ca56dd72e2",
   "metadata": {},
   "outputs": [
    {
     "data": {
      "text/plain": [
       "'Abstraction in Python can be achieved using abstract base classes (ABCs) from the abc module, where interfaces are defined as abstract methods that must be implemented by any subclass.'"
      ]
     },
     "execution_count": 43,
     "metadata": {},
     "output_type": "execute_result"
    }
   ],
   "source": [
    "#Answer 40\n",
    "\n",
    "'''Abstraction in Python can be achieved using abstract base classes (ABCs) from the abc module, where interfaces are defined as abstract methods that must be implemented by any subclass.'''"
   ]
  },
  {
   "cell_type": "code",
   "execution_count": 45,
   "id": "c913a492-a2f5-470b-83b6-bba5a08ac2f0",
   "metadata": {},
   "outputs": [
    {
     "name": "stdout",
     "output_type": "stream",
     "text": [
      "Woof!\n",
      "Meow!\n"
     ]
    }
   ],
   "source": [
    "#Answer 41\n",
    "\n",
    "from abc import ABC, abstractmethod\n",
    "\n",
    "class Animal(ABC):\n",
    "    @abstractmethod\n",
    "    def make_sound(self):\n",
    "        pass\n",
    "\n",
    "class Dog(Animal):\n",
    "    def make_sound(self):\n",
    "        print(\"Woof!\")\n",
    "\n",
    "class Cat(Animal):\n",
    "    def make_sound(self):\n",
    "        print(\"Meow!\")\n",
    "\n",
    "# Test\n",
    "dog = Dog()\n",
    "dog.make_sound()\n",
    "\n",
    "cat = Cat()\n",
    "cat.make_sound()"
   ]
  },
  {
   "cell_type": "code",
   "execution_count": 46,
   "id": "496e6b40-8266-4b5c-82fa-e36aae5f3568",
   "metadata": {},
   "outputs": [
    {
     "data": {
      "text/plain": [
       "'Polymorphism is achieved when a child class overrides a method in the parent class. The same method can behave differently depending on which object is calling it.'"
      ]
     },
     "execution_count": 46,
     "metadata": {},
     "output_type": "execute_result"
    }
   ],
   "source": [
    "#Answer 42\n",
    "\n",
    "'''Polymorphism is achieved when a child class overrides a method in the parent class. The same method can behave differently depending on which object is calling it.'''"
   ]
  },
  {
   "cell_type": "code",
   "execution_count": 47,
   "id": "4df12a35-a69c-4bca-a842-293663bf3a5d",
   "metadata": {},
   "outputs": [
    {
     "name": "stdout",
     "output_type": "stream",
     "text": [
      "Car is moving\n"
     ]
    }
   ],
   "source": [
    "#Answer 43\n",
    "\n",
    "class Vehicle:\n",
    "    def move(self):\n",
    "        print(\"Vehicle is moving\")\n",
    "\n",
    "class Car(Vehicle):\n",
    "    def move(self):\n",
    "        print(\"Car is moving\")\n",
    "\n",
    "# Test\n",
    "car = Car()\n",
    "car.move()"
   ]
  },
  {
   "cell_type": "code",
   "execution_count": 48,
   "id": "566044a5-f555-4759-b4c0-b6b086c35f2e",
   "metadata": {},
   "outputs": [
    {
     "name": "stdout",
     "output_type": "stream",
     "text": [
      "78.5\n",
      "16\n"
     ]
    }
   ],
   "source": [
    "#Answer 44\n",
    "\n",
    "class Shape:\n",
    "    def area(self):\n",
    "        pass\n",
    "\n",
    "class Circle(Shape):\n",
    "    def area(self, radius):\n",
    "        return 3.14 * radius ** 2\n",
    "\n",
    "class Square(Shape):\n",
    "    def area(self, side):\n",
    "        return side ** 2\n",
    "\n",
    "# Test\n",
    "circle = Circle()\n",
    "square = Square()\n",
    "print(circle.area(5))\n",
    "print(square.area(4))"
   ]
  },
  {
   "cell_type": "code",
   "execution_count": 49,
   "id": "29252f46-2095-47a1-901d-492c6aa13999",
   "metadata": {},
   "outputs": [
    {
     "data": {
      "text/plain": [
       "'Polymorphism allows a single interface to handle different types of objects, making code more flexible, maintainable, and reusable. It simplifies method calls and enhances code readability.'"
      ]
     },
     "execution_count": 49,
     "metadata": {},
     "output_type": "execute_result"
    }
   ],
   "source": [
    "#Answer 45\n",
    "\n",
    "'''Polymorphism allows a single interface to handle different types of objects, making code more flexible, maintainable, and reusable. It simplifies method calls and enhances code readability.'''"
   ]
  },
  {
   "cell_type": "code",
   "execution_count": 50,
   "id": "f1baa2a0-d2d5-44f5-8371-892ff118baa9",
   "metadata": {},
   "outputs": [
    {
     "data": {
      "text/plain": [
       "'In Python, if an object implements the required methods (regardless of its actual class), it can be used with polymorphism. This is known as duck typing — \"If it walks like a duck and quacks like a duck, it\\'s a duck.'"
      ]
     },
     "execution_count": 50,
     "metadata": {},
     "output_type": "execute_result"
    }
   ],
   "source": [
    "#Answer 46\n",
    "\n",
    "'''In Python, if an object implements the required methods (regardless of its actual class), it can be used with polymorphism. This is known as duck typing — \"If it walks like a duck and quacks like a duck, it's a duck.'''"
   ]
  },
  {
   "cell_type": "code",
   "execution_count": 51,
   "id": "e6a476f5-cd15-4dcf-826a-d9175e1ccbef",
   "metadata": {},
   "outputs": [
    {
     "data": {
      "text/plain": [
       "'encapsulation is achieved by declaring private and protected members in a class using underscores. Private members (__) are not directly accessible from outside the class.'"
      ]
     },
     "execution_count": 51,
     "metadata": {},
     "output_type": "execute_result"
    }
   ],
   "source": [
    "#Answer 47\n",
    "\n",
    "'''encapsulation is achieved by declaring private and protected members in a class using underscores. Private members (__) are not directly accessible from outside the class.'''"
   ]
  },
  {
   "cell_type": "code",
   "execution_count": 52,
   "id": "3dd45f25-6850-46ca-a0a4-27e193536d19",
   "metadata": {},
   "outputs": [
    {
     "data": {
      "text/plain": [
       "'Yes, encapsulation can be bypassed by accessing the private variables using the class name and object’s dict attribute. For example: object._ClassName__privateVar.'"
      ]
     },
     "execution_count": 52,
     "metadata": {},
     "output_type": "execute_result"
    }
   ],
   "source": [
    "#Answer 48\n",
    "\n",
    "'''Yes, encapsulation can be bypassed by accessing the private variables using the class name and object’s dict attribute. For example: object._ClassName__privateVar.'''"
   ]
  },
  {
   "cell_type": "code",
   "execution_count": 66,
   "id": "b530dac7-1ff2-4e09-989c-fd59d4208c3a",
   "metadata": {},
   "outputs": [
    {
     "name": "stdout",
     "output_type": "stream",
     "text": [
      "70\n"
     ]
    }
   ],
   "source": [
    "#Answer 49\n",
    "\n",
    "class BankAccount:\n",
    "    def __init__(self):\n",
    "        self.__balance = 0\n",
    "\n",
    "    def deposit(self, amount):\n",
    "        if amount > 0:\n",
    "            self.__balance += amount\n",
    "\n",
    "    def withdraw(self, amount):\n",
    "        if 0 < amount <= self.__balance:\n",
    "            self.__balance -= amount\n",
    "        else:\n",
    "            print(\"Insufficient balance\")\n",
    "\n",
    "    def check_balance(self):\n",
    "        return self.__balance\n",
    "\n",
    "account = BankAccount()\n",
    "account.deposit(100)\n",
    "account.withdraw(30)\n",
    "print(account.check_balance())"
   ]
  },
  {
   "cell_type": "code",
   "execution_count": 69,
   "id": "5b0c1c5d-d0b0-4f47-a048-0866d90a3a77",
   "metadata": {},
   "outputs": [
    {
     "name": "stdout",
     "output_type": "stream",
     "text": [
      "rab@example.com\n",
      "rabdatamagic@gmail.com\n"
     ]
    }
   ],
   "source": [
    "#Answer 50\n",
    "\n",
    "class Person:\n",
    "    def __init__(self, name, email):\n",
    "        self.name = name\n",
    "        self.__email = email\n",
    "\n",
    "    def set_email(self, email):\n",
    "        self.__email = email\n",
    "\n",
    "    def get_email(self):\n",
    "        return self.__email\n",
    "\n",
    "# Test\n",
    "person = Person(\"Rab\", \"rab@example.com\")\n",
    "print(person.get_email())\n",
    "person.set_email(\"rabdatamagic@gmail.com\")\n",
    "print(person.get_email())\n"
   ]
  },
  {
   "cell_type": "code",
   "execution_count": 70,
   "id": "87b90e42-a5cd-4c7a-91b0-610cbe45d2c2",
   "metadata": {},
   "outputs": [
    {
     "data": {
      "text/plain": [
       "'Encapsulation is a key pillar of OOP as it restricts access to the internal representation of an object and protects the integrity of the data by allowing only controlled modification through public methods.'"
      ]
     },
     "execution_count": 70,
     "metadata": {},
     "output_type": "execute_result"
    }
   ],
   "source": [
    "#Answer 51\n",
    "\n",
    "'''Encapsulation is a key pillar of OOP as it restricts access to the internal representation of an object and protects the integrity of the data by allowing only controlled modification through public methods.'''"
   ]
  },
  {
   "cell_type": "code",
   "execution_count": 73,
   "id": "7ed03ba6-4806-4dcd-95d3-fe291c01fba7",
   "metadata": {},
   "outputs": [
    {
     "name": "stdout",
     "output_type": "stream",
     "text": [
      "Before function execution\n",
      "Hello!\n",
      "After function execution\n"
     ]
    }
   ],
   "source": [
    "#Answer 52\n",
    "\n",
    "def my_decorator(func):\n",
    "    def wrapper():\n",
    "        print(\"Before function execution\")\n",
    "        func()\n",
    "        print(\"After function execution\")\n",
    "    return wrapper\n",
    "\n",
    "@my_decorator\n",
    "def say_hello():\n",
    "    print(\"Hello!\")\n",
    "\n",
    "say_hello()\n"
   ]
  },
  {
   "cell_type": "code",
   "execution_count": 78,
   "id": "6c800a55-7de8-4246-b0fe-b57e27f66d87",
   "metadata": {},
   "outputs": [
    {
     "name": "stdout",
     "output_type": "stream",
     "text": [
      "Before executing greet\n",
      "Hello, arvind!\n",
      "After executing greet\n"
     ]
    }
   ],
   "source": [
    "#Answer 53\n",
    "\n",
    "def my_decorator(func):\n",
    "    def wrapper(*args, **kwargs):\n",
    "        print(f\"Before executing {func.__name__}\")\n",
    "        result = func(*args, **kwargs)\n",
    "        print(f\"After executing {func.__name__}\")\n",
    "        return result\n",
    "    return wrapper\n",
    "\n",
    "@my_decorator\n",
    "def greet(name):\n",
    "    print(f\"Hello, {name}!\")\n",
    "\n"
   ]
  },
  {
   "cell_type": "code",
   "execution_count": 76,
   "id": "324c3fda-e915-4c25-aee3-98f9730f9018",
   "metadata": {},
   "outputs": [
    {
     "name": "stdout",
     "output_type": "stream",
     "text": [
      "Before executing greet\n",
      "Hello,Rahul!\n",
      "After executing greet\n"
     ]
    }
   ],
   "source": [
    "#Answer 54\n",
    "\n",
    "def decorator_one(func):\n",
    "    def wrapper(*args, **kwargs):\n",
    "        print(\"Decorator One: Before function\")\n",
    "        result = func(*args, **kwargs)\n",
    "        print(\"Decorator One: After function\")\n",
    "        return result\n",
    "    return wrapper\n",
    "\n",
    "def decorator_two(func):\n",
    "    def wrapper(*args, **kwargs):\n",
    "        print(\"Decorator Two: Before function\")\n",
    "        result = func(*args, **kwargs)\n",
    "        print(\"Decorator Two: After function\")\n",
    "        return result\n",
    "    return wrapper\n",
    "\n",
    "@decorator_one\n",
    "@decorator_two\n",
    "\n",
    "def say_hi():\n",
    "    print(\"Hi there!\")\n",
    "\n",
    "say_hi()"
   ]
  },
  {
   "cell_type": "code",
   "execution_count": 2,
   "id": "d6e48604-f6a0-4e41-9c43-6c345829e3de",
   "metadata": {},
   "outputs": [
    {
     "name": "stdout",
     "output_type": "stream",
     "text": [
      "Executing add with arguments: (5, 3), {}\n",
      "8\n"
     ]
    }
   ],
   "source": [
    "#Answer 55\n",
    "\n",
    "def my_decorator(func):\n",
    "    def wrapper(*args, **kwargs):\n",
    "        print(f\"Executing {func.__name__} with arguments: {args}, {kwargs}\")\n",
    "        return func(*args, **kwargs)\n",
    "    return wrapper\n",
    "\n",
    "@my_decorator\n",
    "def add(x, y):\n",
    "    return x + y\n",
    "\n",
    "print(add(5, 3))\n"
   ]
  },
  {
   "cell_type": "code",
   "execution_count": 6,
   "id": "765c17e7-0760-4258-9da4-78fec21c0c9d",
   "metadata": {},
   "outputs": [
    {
     "name": "stdout",
     "output_type": "stream",
     "text": [
      "multiply\n",
      "Multiplies two numbers\n"
     ]
    }
   ],
   "source": [
    "#Answer 56\n",
    "\n",
    "from functools import wraps\n",
    "\n",
    "def my_decorator(func):\n",
    "    @wraps(func)\n",
    "    def wrapper(*args, **kwargs):\n",
    "        print(\"Executing function\")\n",
    "        return func(*args, **kwargs)\n",
    "    return wrapper\n",
    "\n",
    "@my_decorator\n",
    "def multiply(x, y):\n",
    "    \"\"\"Multiplies two numbers\"\"\"\n",
    "    return x * y\n",
    "\n",
    "print(multiply.__name__)\n",
    "print(multiply.__doc__)\n"
   ]
  },
  {
   "cell_type": "code",
   "execution_count": 7,
   "id": "6b2430d3-4b7b-49d2-87ac-596292cfdf0b",
   "metadata": {},
   "outputs": [
    {
     "name": "stdout",
     "output_type": "stream",
     "text": [
      "30\n"
     ]
    }
   ],
   "source": [
    "#Answer 57\n",
    "\n",
    "class Calculator:\n",
    "    @staticmethod\n",
    "    def add(x, y):\n",
    "        return x + y\n",
    "\n",
    "print(Calculator.add(10, 20))"
   ]
  },
  {
   "cell_type": "code",
   "execution_count": 8,
   "id": "4b2f9e6c-d572-43a4-b678-2b7e78029ed2",
   "metadata": {},
   "outputs": [
    {
     "name": "stdout",
     "output_type": "stream",
     "text": [
      "2\n"
     ]
    }
   ],
   "source": [
    "#Answer 58\n",
    "\n",
    "class Employee:\n",
    "    count = 0\n",
    "\n",
    "    def __init__(self, name):\n",
    "        self.name = name\n",
    "        Employee.count += 1\n",
    "\n",
    "    @classmethod\n",
    "    def get_employee_count(cls):\n",
    "        return cls.count\n",
    "\n",
    "e1 = Employee(\"Rab\")\n",
    "e2 = Employee(\"Arb\")\n",
    "print(Employee.get_employee_count())"
   ]
  },
  {
   "cell_type": "code",
   "execution_count": 9,
   "id": "b7ae6497-9425-4827-aefb-586670ec0e9f",
   "metadata": {},
   "outputs": [
    {
     "name": "stdout",
     "output_type": "stream",
     "text": [
      "nohtyP\n"
     ]
    }
   ],
   "source": [
    "#Answer 59\n",
    "class StringFormatter:\n",
    "    @staticmethod\n",
    "    def reverse_string(s):\n",
    "        return s[::-1]\n",
    "\n",
    "print(StringFormatter.reverse_string(\"Python\"))"
   ]
  },
  {
   "cell_type": "code",
   "execution_count": 10,
   "id": "1d992c2e-3ca6-4807-86ef-d24ac43f772f",
   "metadata": {},
   "outputs": [
    {
     "name": "stdout",
     "output_type": "stream",
     "text": [
      "78.54\n"
     ]
    }
   ],
   "source": [
    "#Answer 60\n",
    "\n",
    "class Circle:\n",
    "    @staticmethod\n",
    "    def calculate_area(radius):\n",
    "        return 3.1416 * radius * radius\n",
    "\n",
    "print(Circle.calculate_area(5))\n",
    "     "
   ]
  },
  {
   "cell_type": "code",
   "execution_count": 11,
   "id": "fd92dd03-27bb-435c-bffa-59a4a3dc3fdb",
   "metadata": {},
   "outputs": [
    {
     "name": "stdout",
     "output_type": "stream",
     "text": [
      "77.0\n"
     ]
    }
   ],
   "source": [
    "#Answer 61\n",
    "class TemperatureConverter:\n",
    "    @staticmethod\n",
    "    def celsius_to_fahrenheit(celsius):\n",
    "        return (celsius * 9/5) + 32\n",
    "\n",
    "print(TemperatureConverter.celsius_to_fahrenheit(25))"
   ]
  },
  {
   "cell_type": "code",
   "execution_count": 13,
   "id": "9db51703-4d67-473b-8f96-333edb351086",
   "metadata": {},
   "outputs": [
    {
     "name": "stdout",
     "output_type": "stream",
     "text": [
      "Person named Rahul\n"
     ]
    }
   ],
   "source": [
    "#Answer 62\n",
    "#The __str__() method returns a human-readable string representation of an object.\n",
    "#It is invoked when print() is called.\n",
    "\n",
    "class Person:\n",
    "    def __init__(self, name):\n",
    "        self.name = name\n",
    "\n",
    "    def __str__(self):\n",
    "        return f\"Person named {self.name}\"\n",
    "\n",
    "p = Person(\"Rahul\")\n",
    "print(p)"
   ]
  },
  {
   "cell_type": "code",
   "execution_count": 15,
   "id": "ce5cf505-8d9b-4804-9f7b-9cfe00b77f8d",
   "metadata": {},
   "outputs": [
    {
     "name": "stdout",
     "output_type": "stream",
     "text": [
      "4\n"
     ]
    }
   ],
   "source": [
    "#Answer 63\n",
    "\n",
    "#The __len__() method returns the length of an object.\n",
    "\n",
    "class MyList:\n",
    "    def __init__(self, data):\n",
    "        self.data = data\n",
    "\n",
    "    def __len__(self):\n",
    "        return len(self.data)\n",
    "\n",
    "my_list = MyList([1, 2, 3, 4])\n",
    "print(len(my_list))"
   ]
  },
  {
   "cell_type": "code",
   "execution_count": 16,
   "id": "aa398293-5b0e-492a-ad6b-8893cee0d653",
   "metadata": {},
   "outputs": [
    {
     "name": "stdout",
     "output_type": "stream",
     "text": [
      "Point(4, 6)\n"
     ]
    }
   ],
   "source": [
    "#Answer 64\n",
    "\n",
    "class Point:\n",
    "    def __init__(self, x, y):\n",
    "        self.x = x\n",
    "        self.y = y\n",
    "\n",
    "    def __add__(self, other):\n",
    "        return Point(self.x + other.x, self.y + other.y)\n",
    "\n",
    "    def __str__(self):\n",
    "        return f\"Point({self.x}, {self.y})\"\n",
    "\n",
    "p1 = Point(1, 2)\n",
    "p2 = Point(3, 4)\n",
    "p3 = p1 + p2\n",
    "print(p3)"
   ]
  },
  {
   "cell_type": "code",
   "execution_count": 17,
   "id": "7bc159ae-420e-4f96-ac5e-0de99200e5dc",
   "metadata": {},
   "outputs": [
    {
     "name": "stdout",
     "output_type": "stream",
     "text": [
      "20\n"
     ]
    }
   ],
   "source": [
    "#Answer 65\n",
    "\n",
    "class MyList:\n",
    "    def __init__(self, data):\n",
    "        self.data = data\n",
    "\n",
    "    def __getitem__(self, index):\n",
    "        return self.data[index]\n",
    "\n",
    "my_list = MyList([10, 20, 30])\n",
    "print(my_list[1])"
   ]
  },
  {
   "cell_type": "code",
   "execution_count": 19,
   "id": "4a1e1148-29e0-4d73-85d3-b6b86cd4dd60",
   "metadata": {},
   "outputs": [
    {
     "name": "stdout",
     "output_type": "stream",
     "text": [
      "1 2 3 4 "
     ]
    }
   ],
   "source": [
    "#Answer 66\n",
    "\n",
    "class Counter:\n",
    "    def __init__(self, start, end):\n",
    "        self.current = start\n",
    "        self.end = end\n",
    "\n",
    "    def __iter__(self):\n",
    "        return self\n",
    "\n",
    "    def __next__(self):\n",
    "        if self.current >= self.end:\n",
    "            raise StopIteration\n",
    "        self.current += 1\n",
    "        return self.current - 1\n",
    "\n",
    "counter = Counter(1, 5)\n",
    "for num in counter:\n",
    "    print(num, end= ' ')\n"
   ]
  },
  {
   "cell_type": "code",
   "execution_count": 20,
   "id": "1fd07358-a4d1-4c86-90f8-4708e59c60bc",
   "metadata": {},
   "outputs": [
    {
     "name": "stdout",
     "output_type": "stream",
     "text": [
      "RabDataMagic\n"
     ]
    }
   ],
   "source": [
    "#Answer 67\n",
    "\n",
    "class Person:\n",
    "    def __init__(self, name):\n",
    "        self._name = name\n",
    "\n",
    "    @property\n",
    "    def name(self):\n",
    "        return self._name\n",
    "\n",
    "p = Person(\"RabDataMagic\")\n",
    "print(p.name)"
   ]
  },
  {
   "cell_type": "code",
   "execution_count": 21,
   "id": "8783ecba-d448-4dd5-9c17-4c0f2196269a",
   "metadata": {},
   "outputs": [
    {
     "name": "stdout",
     "output_type": "stream",
     "text": [
      "Lucky\n"
     ]
    }
   ],
   "source": [
    "#Answer 68\n",
    "\n",
    "class Person:\n",
    "    def __init__(self, name):\n",
    "        self._name = name\n",
    "\n",
    "    @property\n",
    "    def name(self):\n",
    "        return self._name\n",
    "\n",
    "    @name.setter\n",
    "    def name(self, value):\n",
    "        self._name = value\n",
    "\n",
    "p = Person(\"Rahul\")\n",
    "p.name = \"Lucky\"\n",
    "print(p.name)"
   ]
  },
  {
   "cell_type": "code",
   "execution_count": 22,
   "id": "4b799b6d-3094-41ab-9478-71f8280baf9e",
   "metadata": {},
   "outputs": [
    {
     "name": "stdout",
     "output_type": "stream",
     "text": [
      "50\n"
     ]
    }
   ],
   "source": [
    "#Answer 69\n",
    "\n",
    "class Rectangle:\n",
    "    def __init__(self, width, height):\n",
    "        self._width = width\n",
    "        self._height = height\n",
    "\n",
    "    @property\n",
    "    def area(self):\n",
    "        return self._width * self._height\n",
    "\n",
    "rect = Rectangle(5, 10)\n",
    "print(rect.area)\n"
   ]
  },
  {
   "cell_type": "code",
   "execution_count": 23,
   "id": "da22ff9d-6814-4961-8f73-9b1f91ce273e",
   "metadata": {},
   "outputs": [
    {
     "name": "stdout",
     "output_type": "stream",
     "text": [
      "Deleting xyz\n"
     ]
    }
   ],
   "source": [
    "#Answer 70\n",
    "\n",
    "class Person:\n",
    "    def __init__(self, name):\n",
    "        self._name = name\n",
    "\n",
    "    @property\n",
    "    def name(self):\n",
    "        return self._name\n",
    "\n",
    "    @name.deleter\n",
    "    def name(self):\n",
    "        print(f\"Deleting {self._name}\")\n",
    "        del self._name\n",
    "\n",
    "p = Person(\"xyz\")\n",
    "del p.name"
   ]
  },
  {
   "cell_type": "code",
   "execution_count": 24,
   "id": "fdb75232-d952-4f9d-a9d7-bc0df2beb8c6",
   "metadata": {},
   "outputs": [
    {
     "name": "stdout",
     "output_type": "stream",
     "text": [
      "1000\n",
      "1500\n"
     ]
    }
   ],
   "source": [
    "#Answer 71\n",
    "\n",
    "class BankAccount:\n",
    "    def __init__(self, balance):\n",
    "        self._balance = balance\n",
    "\n",
    "    @property\n",
    "    def balance(self):\n",
    "        return self._balance\n",
    "\n",
    "    @balance.setter\n",
    "    def balance(self, value):\n",
    "        if value < 0:\n",
    "            raise ValueError(\"Balance cannot be negative\")\n",
    "        self._balance = value\n",
    "\n",
    "account = BankAccount(1000)\n",
    "print(account.balance)\n",
    "account.balance = 1500\n",
    "print(account.balance)"
   ]
  },
  {
   "cell_type": "code",
   "execution_count": null,
   "id": "7211ccae-abbf-47f9-abc9-9cd0bcd0ecb0",
   "metadata": {},
   "outputs": [],
   "source": []
  }
 ],
 "metadata": {
  "kernelspec": {
   "display_name": "Python 3 (ipykernel)",
   "language": "python",
   "name": "python3"
  },
  "language_info": {
   "codemirror_mode": {
    "name": "ipython",
    "version": 3
   },
   "file_extension": ".py",
   "mimetype": "text/x-python",
   "name": "python",
   "nbconvert_exporter": "python",
   "pygments_lexer": "ipython3",
   "version": "3.12.6"
  }
 },
 "nbformat": 4,
 "nbformat_minor": 5
}
