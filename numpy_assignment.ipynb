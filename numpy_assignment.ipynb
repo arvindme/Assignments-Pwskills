{
 "cells": [
  {
   "cell_type": "code",
   "execution_count": null,
   "id": "cd7d9a21-c451-4fde-965a-b4005730e58f",
   "metadata": {},
   "outputs": [],
   "source": [
    "import numpy as np"
   ]
  },
  {
   "cell_type": "code",
   "execution_count": 6,
   "id": "a549a682-15ee-4210-a07b-e55281cca94e",
   "metadata": {},
   "outputs": [],
   "source": [
    "#Answer-1"
   ]
  },
  {
   "cell_type": "code",
   "execution_count": 7,
   "id": "da3bdd67-cbf4-4817-a818-ea2cce4cbb27",
   "metadata": {},
   "outputs": [],
   "source": [
    "arr = [1,2,3,4,5]\n",
    "\n",
    "arr = np.array(arr)"
   ]
  },
  {
   "cell_type": "code",
   "execution_count": 8,
   "id": "9de6ee37-a162-42a6-b2e7-4ed54a3452c5",
   "metadata": {},
   "outputs": [
    {
     "data": {
      "text/plain": [
       "array([1, 2, 3, 4, 5])"
      ]
     },
     "execution_count": 8,
     "metadata": {},
     "output_type": "execute_result"
    }
   ],
   "source": [
    "arr"
   ]
  },
  {
   "cell_type": "code",
   "execution_count": 9,
   "id": "45f29fad-9801-428f-b184-b0a3ccc06b87",
   "metadata": {},
   "outputs": [
    {
     "name": "stdout",
     "output_type": "stream",
     "text": [
      "Data type is float64\n"
     ]
    }
   ],
   "source": [
    "#Answer-2\n",
    "arr = np.array([1.5, 2.6, 3.7])\n",
    "if arr.dtype == np.float64:\n",
    "    print(\"Data type is float64\")\n",
    "else:\n",
    "    print(\"Data type is not float64\")"
   ]
  },
  {
   "cell_type": "code",
   "execution_count": 10,
   "id": "4f6b9a4e-8b0c-4fe0-b46d-dd77db07b5a5",
   "metadata": {},
   "outputs": [
    {
     "name": "stdout",
     "output_type": "stream",
     "text": [
      "[2.+3.j 5.+2.j 4.+1.j]\n",
      "complex128\n"
     ]
    }
   ],
   "source": [
    "#Answer-3\n",
    "\n",
    "arr = np.array([2+3j,5+2j,4+1j],dtype = np.complex128)\n",
    "print(arr)\n",
    "print(arr.dtype)"
   ]
  },
  {
   "cell_type": "code",
   "execution_count": 11,
   "id": "00bc824a-9e60-40a5-bbbd-93b25212ee20",
   "metadata": {},
   "outputs": [
    {
     "name": "stdout",
     "output_type": "stream",
     "text": [
      "[1. 2. 3. 4. 5.]\n",
      "float32\n"
     ]
    }
   ],
   "source": [
    "#Answer-4\n",
    "arr = np.array([1, 2, 3, 4, 5])\n",
    "arr_float32 = arr.astype(np.float32)\n",
    "print(arr_float32)\n",
    "print(arr_float32.dtype)"
   ]
  },
  {
   "cell_type": "code",
   "execution_count": 12,
   "id": "15987edb-1538-4c66-94be-0960bf5746bf",
   "metadata": {},
   "outputs": [
    {
     "name": "stdout",
     "output_type": "stream",
     "text": [
      "[1.1234568 2.1234567 3.1234567]\n",
      "float32\n"
     ]
    }
   ],
   "source": [
    "#Answer-5\n",
    "arr = np.array([1.123456789, 2.123456789, 3.123456789],dtype = np.float64)\n",
    "arr_float32 = arr.astype(np.float32)\n",
    "print(arr_float32)\n",
    "print(arr_float32.dtype)"
   ]
  },
  {
   "cell_type": "code",
   "execution_count": 55,
   "id": "f504361f-fd38-4ee1-b83b-8f2ace717e81",
   "metadata": {},
   "outputs": [
    {
     "name": "stdout",
     "output_type": "stream",
     "text": [
      "((3,), 3, dtype('int64'))\n"
     ]
    }
   ],
   "source": [
    "#Answer-6\n",
    "\n",
    "def array_attributes(arr):\n",
    "    return arr.shape, arr.size, arr.dtype\n",
    "\n",
    "arr = np.array([1, 2, 3])\n",
    "print(array_attributes(arr))\n",
    "     "
   ]
  },
  {
   "cell_type": "code",
   "execution_count": null,
   "id": "342c9659-9be0-4c34-ba5f-a83e7bfa1b17",
   "metadata": {},
   "outputs": [],
   "source": [
    "#Answer-6\n",
    "\n",
    "def array_attributes(arr):\n",
    "    return arr.shape,arr.size,arr.dtype\n",
    "\n",
    "arr = np.array([1,2,3])\n",
    "print(array_attributes(arr))\n"
   ]
  },
  {
   "cell_type": "code",
   "execution_count": 14,
   "id": "afd3d489-6404-4fb1-a12a-376d398c78da",
   "metadata": {},
   "outputs": [
    {
     "name": "stdout",
     "output_type": "stream",
     "text": [
      "2\n"
     ]
    }
   ],
   "source": [
    "#Answer-7\n",
    "def array_dimension(arr):\n",
    "    return arr.ndim\n",
    "    \n",
    "arr =  np.array([[1,2,],[3,4]])\n",
    "print(array_dimension(arr))"
   ]
  },
  {
   "cell_type": "code",
   "execution_count": 15,
   "id": "ccb6295d-cfcf-4971-a7bd-2d7b4cd60b40",
   "metadata": {},
   "outputs": [
    {
     "name": "stdout",
     "output_type": "stream",
     "text": [
      "(8, 40)\n"
     ]
    }
   ],
   "source": [
    "#Answer-8\n",
    "\n",
    "def item_size_info(arr):\n",
    "    return arr.itemsize,arr.nbytes\n",
    "\n",
    "arr = np.array([1,2,3,4,5])\n",
    "print(item_size_info(arr))"
   ]
  },
  {
   "cell_type": "code",
   "execution_count": 16,
   "id": "158a39c4-4b37-4489-a73a-57bdc0d3aefc",
   "metadata": {},
   "outputs": [
    {
     "name": "stdout",
     "output_type": "stream",
     "text": [
      "(16, 8)\n"
     ]
    }
   ],
   "source": [
    "#Answer-9\n",
    "\n",
    "def array_strides(arr):\n",
    "    return arr.strides\n",
    "\n",
    "arr  = np.array([[1,2],[3,4]])\n",
    "print(array_strides(arr))"
   ]
  },
  {
   "cell_type": "code",
   "execution_count": 17,
   "id": "69ec35bc-9e12-413f-9f7f-c1641b18f424",
   "metadata": {},
   "outputs": [
    {
     "name": "stdout",
     "output_type": "stream",
     "text": [
      "((2, 2), (16, 8))\n"
     ]
    }
   ],
   "source": [
    "#Answer-10\n",
    "\n",
    "def  shape_stride_relationship(arr):\n",
    "    return arr.shape,arr.strides\n",
    "\n",
    "arr = np.array([[1, 2], [3, 4]])\n",
    "print(shape_stride_relationship(arr))"
   ]
  },
  {
   "cell_type": "code",
   "execution_count": 18,
   "id": "67705122-8538-4f30-96c8-cd7443415b33",
   "metadata": {},
   "outputs": [
    {
     "name": "stdout",
     "output_type": "stream",
     "text": [
      "[0. 0. 0. 0. 0.]\n"
     ]
    }
   ],
   "source": [
    "#Answer-11\n",
    "\n",
    "def create_zeros_array(n):\n",
    "    return np.zeros(n)\n",
    "\n",
    "n = 5\n",
    "print(create_zeros_array(n))"
   ]
  },
  {
   "cell_type": "code",
   "execution_count": 19,
   "id": "b238c99b-eef1-4984-8412-4637adabf183",
   "metadata": {},
   "outputs": [
    {
     "name": "stdout",
     "output_type": "stream",
     "text": [
      "[[1. 1. 1. 1.]\n",
      " [1. 1. 1. 1.]\n",
      " [1. 1. 1. 1.]]\n"
     ]
    }
   ],
   "source": [
    "#Answer-12\n",
    "\n",
    "def create_ones_matrix(rows, cols):\n",
    "    return np.ones((rows, cols))\n",
    "\n",
    "print(create_ones_matrix(3, 4))"
   ]
  },
  {
   "cell_type": "code",
   "execution_count": 20,
   "id": "71f775f4-8eed-4179-8b16-74cbccadac8b",
   "metadata": {},
   "outputs": [
    {
     "name": "stdout",
     "output_type": "stream",
     "text": [
      "[1 3 5 7 9]\n"
     ]
    }
   ],
   "source": [
    "#Answer-13\n",
    "\n",
    "def generate_range_array(start,stop,step):\n",
    "    return np.arange(start,stop,step)\n",
    "\n",
    "print(generate_range_array(1, 10, 2))"
   ]
  },
  {
   "cell_type": "code",
   "execution_count": 21,
   "id": "575b421b-dae5-4bc9-baba-9a7669e7d9d9",
   "metadata": {},
   "outputs": [
    {
     "name": "stdout",
     "output_type": "stream",
     "text": [
      "[1.         1.44444444 1.88888889 2.33333333 2.77777778 3.22222222\n",
      " 3.66666667 4.11111111 4.55555556 5.        ]\n"
     ]
    }
   ],
   "source": [
    "#Answer-14\n",
    "\n",
    "def generate_linear_space(start,stop,num):\n",
    "    return np.linspace(start, stop, num)\n",
    "\n",
    "print(generate_linear_space(1.0,5.0,10))"
   ]
  },
  {
   "cell_type": "code",
   "execution_count": 22,
   "id": "e5cb7584-bcb3-4070-bcd1-021ee902f317",
   "metadata": {},
   "outputs": [
    {
     "name": "stdout",
     "output_type": "stream",
     "text": [
      "[[1. 0. 0. 0.]\n",
      " [0. 1. 0. 0.]\n",
      " [0. 0. 1. 0.]\n",
      " [0. 0. 0. 1.]]\n"
     ]
    }
   ],
   "source": [
    "#Answer-15\n",
    "def create_identity_matrix(n):\n",
    "    return np.eye(n)\n",
    "    \n",
    "print(create_identity_matrix(4))"
   ]
  },
  {
   "cell_type": "code",
   "execution_count": 23,
   "id": "beb4f015-f656-4eb5-94fb-31fc4da71d41",
   "metadata": {},
   "outputs": [
    {
     "name": "stdout",
     "output_type": "stream",
     "text": [
      "[1 2 3 4 5]\n"
     ]
    }
   ],
   "source": [
    "#Answr-16\n",
    "\n",
    "def list_to_array(py_list):\n",
    "    return np.array(py_list)\n",
    "\n",
    "print(list_to_array([1, 2, 3, 4, 5]))"
   ]
  },
  {
   "cell_type": "code",
   "execution_count": 24,
   "id": "6585693a-e512-485a-a1ed-fbc64c8efc3e",
   "metadata": {},
   "outputs": [
    {
     "name": "stdout",
     "output_type": "stream",
     "text": [
      "[1 2 3 4 5]\n"
     ]
    }
   ],
   "source": [
    "#Answr-17\n",
    "\n",
    "arr = np.array([1, 2, 3, 4, 5])\n",
    "arr_view = arr.view()\n",
    "print(arr_view)"
   ]
  },
  {
   "cell_type": "code",
   "execution_count": 25,
   "id": "2d14fa8e-5319-441c-8f12-0a68d8bd2c74",
   "metadata": {},
   "outputs": [
    {
     "name": "stdout",
     "output_type": "stream",
     "text": [
      "[[1 2]\n",
      " [3 4]\n",
      " [5 6]\n",
      " [3 4]]\n"
     ]
    }
   ],
   "source": [
    "#Answr-18\n",
    "def two_numpy_array(arr1,arr2,axis = 0):\n",
    "    return np.concatenate((arr1,arr2),axis = axis)\n",
    "\n",
    "arr1 = np.array([[1,2],[3,4]])\n",
    "arr2 = np.array([[5,6],[3,4]])\n",
    "print(two_numpy_array(arr1,arr2,axis = 0))"
   ]
  },
  {
   "cell_type": "code",
   "execution_count": 26,
   "id": "9d86d0af-374f-4328-acb0-e025d7e92733",
   "metadata": {},
   "outputs": [
    {
     "name": "stdout",
     "output_type": "stream",
     "text": [
      "[[1 2 5]\n",
      " [3 4 6]]\n"
     ]
    }
   ],
   "source": [
    "#Answer-19\n",
    "\n",
    "arr1 = np.array([[1, 2], [3, 4]])\n",
    "arr2 = np.array([[5], [6]])\n",
    "print(np.concatenate((arr1, arr2), axis=1))"
   ]
  },
  {
   "cell_type": "code",
   "execution_count": 27,
   "id": "d2353bdd-fdbc-40e4-b078-910f8b9209d6",
   "metadata": {},
   "outputs": [
    {
     "name": "stdout",
     "output_type": "stream",
     "text": [
      "[[1 2 3]\n",
      " [4 5 6]\n",
      " [7 8 9]]\n"
     ]
    }
   ],
   "source": [
    "#Answer-20\n",
    "\n",
    "def vertical_stack(arr_list):\n",
    "    return np.vstack(arr_list)\n",
    "\n",
    "arr1 = np.array([1,2,3])\n",
    "arr2 = np.array([4,5,6])\n",
    "arr3 = np.array([7,8,9])\n",
    "\n",
    "print(vertical_stack([arr1,arr2,arr3]))"
   ]
  },
  {
   "cell_type": "code",
   "execution_count": 28,
   "id": "a7bd8d8f-bd34-48e0-8006-62d36dbc39d3",
   "metadata": {},
   "outputs": [
    {
     "name": "stdout",
     "output_type": "stream",
     "text": [
      "[1 3 5 7 9]\n"
     ]
    }
   ],
   "source": [
    "#Answer-21\n",
    "\n",
    "def create_array_in_range(start, stop, step):\n",
    "    return np.arange(start, stop+1, step)\n",
    "\n",
    "print(create_array_in_range(1,10,2))"
   ]
  },
  {
   "cell_type": "code",
   "execution_count": 29,
   "id": "7e39fd72-ca60-45f6-b5ea-9c51a4ccf0c5",
   "metadata": {},
   "outputs": [
    {
     "name": "stdout",
     "output_type": "stream",
     "text": [
      "[0.         0.11111111 0.22222222 0.33333333 0.44444444 0.55555556\n",
      " 0.66666667 0.77777778 0.88888889 1.        ]\n"
     ]
    }
   ],
   "source": [
    "#Answer-22\n",
    "\n",
    "def equally_spaced_values():\n",
    "    return np.linspace(0,1,10)\n",
    "\n",
    "print(equally_spaced_values())"
   ]
  },
  {
   "cell_type": "code",
   "execution_count": 30,
   "id": "c35dde15-327c-41d4-84f5-b7b00640e21d",
   "metadata": {},
   "outputs": [
    {
     "name": "stdout",
     "output_type": "stream",
     "text": [
      "[   1.            5.62341325   31.6227766   177.827941   1000.        ]\n"
     ]
    }
   ],
   "source": [
    "#Answer-23\n",
    "\n",
    "def log_spaced_values():\n",
    "    return np.logspace(0,3,5)\n",
    "\n",
    "print(log_spaced_values())"
   ]
  },
  {
   "cell_type": "code",
   "execution_count": 31,
   "id": "136cc572-b0c6-47e5-80f5-23006449be36",
   "metadata": {},
   "outputs": [
    {
     "name": "stdout",
     "output_type": "stream",
     "text": [
      "    A   B   C\n",
      "0  28  14  58\n",
      "1  96  36  42\n",
      "2  55  80  44\n",
      "3  24  80  56\n",
      "4  65  82  94\n"
     ]
    }
   ],
   "source": [
    "#Answer-24\n",
    "import pandas as pd\n",
    "\n",
    "def create_dataframe():\n",
    "     data = np.random.randint(1,101,size = (5,3))\n",
    "     return pd.DataFrame(data,columns = ['A','B','C'])\n",
    "\n",
    "df = create_dataframe()\n",
    "print(df)"
   ]
  },
  {
   "cell_type": "code",
   "execution_count": 32,
   "id": "7b5f42dc-cc6b-4835-8079-418d9c8d8954",
   "metadata": {},
   "outputs": [
    {
     "name": "stdout",
     "output_type": "stream",
     "text": [
      "   A  B\n",
      "0  1 -1\n",
      "1  0  5\n",
      "2  3 -3\n"
     ]
    }
   ],
   "source": [
    "#Answer-25\n",
    "def replace_negatives_with_zero(df, column_name):\n",
    "    df[column_name] = np.where(df[column_name] < 0, 0, df[column_name])\n",
    "    return df\n",
    "\n",
    "df = pd.DataFrame({'A': [1, -2, 3], 'B': [-1, 5, -3]})\n",
    "print(replace_negatives_with_zero(df, 'A'))"
   ]
  },
  {
   "cell_type": "code",
   "execution_count": 33,
   "id": "0b28fa6e-f632-4fba-b221-e2f9039338e3",
   "metadata": {},
   "outputs": [
    {
     "name": "stdout",
     "output_type": "stream",
     "text": [
      "   A  B\n",
      "0  1 -1\n",
      "1  0  5\n",
      "2  3 -3\n"
     ]
    }
   ],
   "source": [
    "#Answer-25\n",
    "def replace_negative_with_zero(df,column_name):\n",
    "    df[column_name] = np.where(df[column_name] < 0 , 0 ,df[column_name])\n",
    "    return df\n",
    "\n",
    "df = pd.DataFrame({'A':[1,-2,3],'B':[-1,5,-3]})\n",
    "\n",
    "print(replace_negative_with_zero(df,'A'))"
   ]
  },
  {
   "cell_type": "code",
   "execution_count": 34,
   "id": "c4127fa6-d8b7-42b7-8c9f-75d9b84ba340",
   "metadata": {},
   "outputs": [
    {
     "name": "stdout",
     "output_type": "stream",
     "text": [
      "30\n"
     ]
    }
   ],
   "source": [
    "#Answer-26\n",
    "arr = np.array([10, 20, 30, 40, 50])\n",
    "print(arr[2])"
   ]
  },
  {
   "cell_type": "code",
   "execution_count": 45,
   "id": "65a79a23-3a23-46d6-8c5c-a14bd339b1e5",
   "metadata": {},
   "outputs": [
    {
     "name": "stdout",
     "output_type": "stream",
     "text": [
      "6\n"
     ]
    }
   ],
   "source": [
    "#Answer-27\n",
    "\n",
    "arr_2d = np.array(\n",
    "    [[1, 2, 3],\n",
    "     [4, 5, 6], \n",
    "     [7, 8, 9]]\n",
    ")\n",
    "\n",
    "print(arr_2d[1,2])"
   ]
  },
  {
   "cell_type": "code",
   "execution_count": 36,
   "id": "4446e118-9aee-40a5-b1ab-10b509094a12",
   "metadata": {},
   "outputs": [
    {
     "name": "stdout",
     "output_type": "stream",
     "text": [
      "[ 8 10  7]\n"
     ]
    }
   ],
   "source": [
    "#Answer-28\n",
    "arr = np.array([3, 8, 2, 10, 5, 7])\n",
    "print(arr[arr>5])"
   ]
  },
  {
   "cell_type": "code",
   "execution_count": 37,
   "id": "3c53ad31-7672-4d67-9740-e899526d18d3",
   "metadata": {},
   "outputs": [
    {
     "name": "stdout",
     "output_type": "stream",
     "text": [
      "[3 4 5 6]\n"
     ]
    }
   ],
   "source": [
    "#Answer-29\n",
    "arr = np.array([1, 2, 3, 4, 5, 6, 7, 8, 9])\n",
    "print(arr[2:6])"
   ]
  },
  {
   "cell_type": "code",
   "execution_count": 61,
   "id": "48552f7b-ce6b-4427-ba28-a8ffabe3ac2b",
   "metadata": {},
   "outputs": [
    {
     "name": "stdout",
     "output_type": "stream",
     "text": [
      "[[2 3]\n",
      " [5 6]]\n"
     ]
    }
   ],
   "source": [
    "#Answer-29\n",
    "arr_2d = np.array(\n",
    "    [[1, 2, 3], \n",
    "     [4, 5, 6], \n",
    "     [7, 8, 9]]\n",
    ")\n",
    "print(arr_2d[0:2, 1:3])"
   ]
  },
  {
   "cell_type": "code",
   "execution_count": 47,
   "id": "0341da3b-0b43-46fa-922c-379a9b37a59e",
   "metadata": {},
   "outputs": [
    {
     "name": "stdout",
     "output_type": "stream",
     "text": [
      "[[2 3]\n",
      " [5 6]]\n"
     ]
    }
   ],
   "source": [
    "#Answer-30\n",
    "arr_2d = np.array([[1, 2, 3],\n",
    "                   [4, 5, 6],\n",
    "                   [7, 8, 9]]\n",
    "                 )\n",
    "\n",
    "print(arr_2d[0:2,1:3])"
   ]
  },
  {
   "cell_type": "code",
   "execution_count": 48,
   "id": "de2d62f4-84a8-4dad-919f-0dd0665d8ffc",
   "metadata": {},
   "outputs": [
    {
     "name": "stdout",
     "output_type": "stream",
     "text": [
      "[[1 2 3]\n",
      " [7 8 9]]\n"
     ]
    }
   ],
   "source": [
    "#Answer-31\n",
    "\n",
    "def extract_elemets(arr,indices):\n",
    "    return arr[indices]\n",
    "\n",
    "arr = np.array([[1, 2, 3], [4, 5, 6], [7, 8, 9]])\n",
    "indices = np.array([0,2])\n",
    "print(extract_elemets(arr,indices))"
   ]
  },
  {
   "cell_type": "code",
   "execution_count": 53,
   "id": "27e149d0-1d1d-4117-88be-cc46a227ef16",
   "metadata": {},
   "outputs": [
    {
     "name": "stdout",
     "output_type": "stream",
     "text": [
      "[15 20]\n"
     ]
    }
   ],
   "source": [
    "#Answer-32\n",
    "\n",
    "def filter_greater_than(arr, threshold):\n",
    "    return arr[arr > threshold]\n",
    "\n",
    "arr = np.array([1, 5, 10, 15, 20])\n",
    "print(filter_greater_than(arr, 10))"
   ]
  },
  {
   "cell_type": "code",
   "execution_count": 99,
   "id": "83310a32-8486-442a-91e2-5f6114bc9809",
   "metadata": {},
   "outputs": [
    {
     "name": "stdout",
     "output_type": "stream",
     "text": [
      "[5 2 8]\n"
     ]
    }
   ],
   "source": [
    "#Answer-33\n",
    "def extract_from_3d_array(arr, idx1, idx2, idx3,idx4):\n",
    "    return arr[idx1, idx2, idx3]\n",
    "\n",
    "arr = np.random.randint(0, 10, (4, 4, 4))\n",
    "idx1 = np.array([0, 1, 2])\n",
    "idx2 = np.array([1, 2, 3])\n",
    "idx3 = np.array([2, 3, 1])\n",
    "idx4 = np.array([3, 3, 1])\n",
    "print(extract_from_3d_array(arr, idx1, idx2, idx3,idx4))"
   ]
  },
  {
   "cell_type": "code",
   "execution_count": 92,
   "id": "221daa0f-8071-45c9-843a-d3dcee76d903",
   "metadata": {},
   "outputs": [
    {
     "name": "stdout",
     "output_type": "stream",
     "text": [
      "[12 18]\n"
     ]
    }
   ],
   "source": [
    "#Answer-34\n",
    "def filter_with_condition(arr):\n",
    "    return arr[(arr > 10) & (arr < 20)]\n",
    "\n",
    "arr = np.array([5,12,18,25])\n",
    "print(filter_with_condition(arr))"
   ]
  },
  {
   "cell_type": "code",
   "execution_count": 85,
   "id": "479e0abf-d734-4c9b-85cd-33158371c072",
   "metadata": {},
   "outputs": [
    {
     "name": "stdout",
     "output_type": "stream",
     "text": [
      "[3 5 7]\n"
     ]
    }
   ],
   "source": [
    "#Answer-35\n",
    "\n",
    "def extract_using_indices(arr,row_indices,col_indices):\n",
    "    return arr[row_indices,col_indices]\n",
    "\n",
    "arr = np.array([\n",
    "    [1,2,3],\n",
    "    [4,5,6],\n",
    "    [7,8,9]\n",
    "])\n",
    "\n",
    "row_indices = np.array([0,1,2])\n",
    "col_indices = np.array([2,1,0])\n",
    "print(extract_using_indices(arr,row_indices,col_indices))"
   ]
  },
  {
   "cell_type": "code",
   "execution_count": 101,
   "id": "036dbf06-6d0c-4c79-a900-0a31dafa87a8",
   "metadata": {},
   "outputs": [
    {
     "name": "stdout",
     "output_type": "stream",
     "text": [
      "[[ 6  7  8]\n",
      " [ 9 10 11]\n",
      " [12 13 14]]\n"
     ]
    }
   ],
   "source": [
    "#Answer-36\n",
    "arr = np.array([[1,2,3],[4,5,6],[7,8,9]])\n",
    "print(arr +5)"
   ]
  },
  {
   "cell_type": "code",
   "execution_count": 103,
   "id": "f196958f-283e-4598-9f75-d58620589099",
   "metadata": {},
   "outputs": [
    {
     "name": "stdout",
     "output_type": "stream",
     "text": [
      "[[ 1  2  3  4]\n",
      " [10 12 14 16]\n",
      " [27 30 33 36]]\n"
     ]
    }
   ],
   "source": [
    "#Answer-37\n",
    "arr1 = np.array([[1, 2, 3]])\n",
    "arr2 = np.array([\n",
    "    [1, 2, 3, 4],\n",
    "    [5, 6, 7, 8],\n",
    "    [9, 10, 11, 12]\n",
    "])\n",
    "print(arr2 * arr1.T)"
   ]
  },
  {
   "cell_type": "code",
   "execution_count": 118,
   "id": "c50b4478-dd95-4be6-b08d-1359948003dc",
   "metadata": {},
   "outputs": [
    {
     "name": "stdout",
     "output_type": "stream",
     "text": [
      "[[ 2  3  4]\n",
      " [ 6  7  8]\n",
      " [10 11 12]\n",
      " [14 15 16]]\n"
     ]
    }
   ],
   "source": [
    "#Answer-38\n",
    "arr1 = np.array([1,2,3,4])\n",
    "arr2 = np.array([[1,2,3],[4,5,6],[7,8,9],[10,11,12]])\n",
    "print(arr2 + arr1[:,np.newaxis])"
   ]
  },
  {
   "cell_type": "code",
   "execution_count": 9,
   "id": "05d253dd-1b1e-4469-a612-32d2b16ba7ec",
   "metadata": {},
   "outputs": [
    {
     "name": "stdout",
     "output_type": "stream",
     "text": [
      "[[2 3 4]\n",
      " [3 4 5]\n",
      " [4 5 6]]\n"
     ]
    }
   ],
   "source": [
    "#Answer-39\n",
    "arr1 = np.array([[1],[2],[3]])\n",
    "arr2 = np.array([[1,2,3]])\n",
    "\n",
    "arr = arr1 + arr2\n",
    "print(arr)"
   ]
  },
  {
   "cell_type": "code",
   "execution_count": 27,
   "id": "88a5e1fc-af67-4099-9cb9-b62b538c6e76",
   "metadata": {},
   "outputs": [
    {
     "name": "stdout",
     "output_type": "stream",
     "text": [
      "[[ 1  2  6]\n",
      " [12 15 24]]\n"
     ]
    }
   ],
   "source": [
    "#Answer-40\n",
    "arr1 = np.array([[1, 2, 3], [4, 5, 6]])\n",
    "arr2 = np.array([[1, 2], [3, 4]])\n",
    "\n",
    "arr2_reshaped = np.repeat(arr2,2,axis = 1)[:,:-1]\n",
    "print(arr1 * arr2_reshaped)"
   ]
  },
  {
   "cell_type": "code",
   "execution_count": 32,
   "id": "162332d0-bcf8-4f50-a483-799667d6bd00",
   "metadata": {},
   "outputs": [
    {
     "name": "stdout",
     "output_type": "stream",
     "text": [
      "[2.5 3.5 4.5]\n"
     ]
    }
   ],
   "source": [
    "#Answer-41\n",
    "arr = np.array([[1,2,3],[4,5,6]])\n",
    "print(np.mean(arr,axis = 0))"
   ]
  },
  {
   "cell_type": "code",
   "execution_count": 34,
   "id": "3df6880b-7bc0-4717-801e-fa5e34cedf7b",
   "metadata": {},
   "outputs": [
    {
     "name": "stdout",
     "output_type": "stream",
     "text": [
      "[3 6]\n"
     ]
    }
   ],
   "source": [
    "#Answer-42\n",
    "arr = np.array([[1,2,3],[4,5,6]])\n",
    "print(np.max(arr,axis = 1))"
   ]
  },
  {
   "cell_type": "code",
   "execution_count": 36,
   "id": "a07e36c8-bb4d-425c-a99e-b9a03f0e6b2b",
   "metadata": {},
   "outputs": [
    {
     "name": "stdout",
     "output_type": "stream",
     "text": [
      "[1 1 1]\n"
     ]
    }
   ],
   "source": [
    "#Answer-43\n",
    "arr = np.array([[1, 2, 3], [4, 5, 6]])\n",
    "print(np.argmax(arr,axis = 0))"
   ]
  },
  {
   "cell_type": "code",
   "execution_count": 39,
   "id": "432e6b2a-ff61-4c6d-b523-53adae9ebf6a",
   "metadata": {},
   "outputs": [
    {
     "name": "stdout",
     "output_type": "stream",
     "text": [
      "[[ 1  3  6]\n",
      " [ 4  9 15]]\n"
     ]
    }
   ],
   "source": [
    "#Answer-44\n",
    "def moving_sum(arr):\n",
    "    return np.cumsum(arr,axis = 1)\n",
    "\n",
    "arr = np.array([[1,2,3],[4,5,6]])\n",
    "print(moving_sum(arr))"
   ]
  },
  {
   "cell_type": "code",
   "execution_count": 3,
   "id": "3c1d2725-4713-4877-9223-fbf78cd8cf6d",
   "metadata": {},
   "outputs": [
    {
     "name": "stdout",
     "output_type": "stream",
     "text": [
      "[False False False]\n"
     ]
    }
   ],
   "source": [
    "#Answer-45\n",
    "arr = np.array([[2,4,6],[3,5,7]])\n",
    "print(np.all(arr % 2 == 0 ,axis = 0))"
   ]
  },
  {
   "cell_type": "code",
   "execution_count": 5,
   "id": "18b8e4b8-20f5-449b-93a9-be44151c4373",
   "metadata": {},
   "outputs": [
    {
     "name": "stdout",
     "output_type": "stream",
     "text": [
      "[[1 2 3]\n",
      " [4 5 6]]\n"
     ]
    }
   ],
   "source": [
    "#Answer-46\n",
    "original_array = np.array([1, 2, 3, 4, 5, 6])\n",
    "reshaped_matrix = original_array.reshape(2,3)\n",
    "print(reshaped_matrix)"
   ]
  },
  {
   "cell_type": "code",
   "execution_count": 9,
   "id": "54d78b91-a57f-456b-aa37-c6070f6a452e",
   "metadata": {},
   "outputs": [
    {
     "name": "stdout",
     "output_type": "stream",
     "text": [
      "[1 2 3 4 5 6]\n"
     ]
    }
   ],
   "source": [
    "#Answer-47\n",
    "def flatten_matrix(matrix):\n",
    "    return matrix.flatten()\n",
    "\n",
    "input_matrix = np.array([[1,2,3],[4,5,6]])\n",
    "flattened_array = flatten_matrix(input_matrix)\n",
    "print(flattened_array)"
   ]
  },
  {
   "cell_type": "code",
   "execution_count": 27,
   "id": "a2c2d6cd-2e2e-4acb-a2fa-407d83d2cc46",
   "metadata": {
    "scrolled": true
   },
   "outputs": [
    {
     "name": "stdout",
     "output_type": "stream",
     "text": [
      "[[1 2]\n",
      " [3 4]\n",
      " [5 6]\n",
      " [7 8]]\n",
      " \n",
      "[[1 2 5 6]\n",
      " [3 4 7 8]]\n"
     ]
    }
   ],
   "source": [
    "#Answer-48\n",
    "array1 = np.array([[1, 2], [3, 4]])\n",
    "array2 = np.array([[5, 6], [7, 8]])\n",
    "\n",
    "concatenated_array = np.concatenate((array1,array2),axis = 0)\n",
    "print(concatenated_array)\n",
    "\n",
    "print(\" \")\n",
    "\n",
    "concatenated_array = np.concatenate((array1,array2),axis = 1)\n",
    "print(concatenated_array)"
   ]
  },
  {
   "cell_type": "code",
   "execution_count": 28,
   "id": "fc2aa2d3-1cf0-4ecf-a828-77e466656cc7",
   "metadata": {},
   "outputs": [
    {
     "name": "stdout",
     "output_type": "stream",
     "text": [
      "[array([[1, 2, 3]]), array([[4, 5, 6]]), array([[7, 8, 9]])]\n"
     ]
    }
   ],
   "source": [
    "#Answer-49\n",
    "def split_array(arr,num_splits):\n",
    "    return np.array_split(arr,num_splits,axis = 0)\n",
    "\n",
    "original_array = np.array([[1,2,3],[4,5,6],[7,8,9]])\n",
    "sub_array = split_array(original_array,3)\n",
    "print(sub_arrays)\n"
   ]
  },
  {
   "cell_type": "code",
   "execution_count": 2,
   "id": "00b712e6-6337-4b5b-b8e0-059af74d0b03",
   "metadata": {},
   "outputs": [
    {
     "name": "stdout",
     "output_type": "stream",
     "text": [
      "[ 1 10  4 11  5]\n"
     ]
    }
   ],
   "source": [
    "#Answer-50\n",
    "\n",
    "def insert_and_delete_elements(arr, indices_to_insert, values_to_insert, indices_to_delete):\n",
    "    modified_array = np.insert(arr, indices_to_insert, values_to_insert)\n",
    "    modified_array = np.delete(modified_array, indices_to_delete)\n",
    "    return modified_array\n",
    "\n",
    "original_array = np.array([1, 2, 3, 4, 5])\n",
    "indices_to_insert = [2, 4]\n",
    "values_to_insert = [10, 11]\n",
    "indices_to_delete = [1, 3]\n",
    "result = insert_and_delete_elements(original_array, indices_to_insert, values_to_insert, indices_to_delete)\n",
    "print(result)"
   ]
  },
  {
   "cell_type": "code",
   "execution_count": 5,
   "id": "fcda0340-acda-40c2-afb3-4a12934c6762",
   "metadata": {},
   "outputs": [
    {
     "name": "stdout",
     "output_type": "stream",
     "text": [
      "[ 7 11  6 12  8  7 14 10 16 19]\n"
     ]
    }
   ],
   "source": [
    "#Answer-51\n",
    "arr1 = np.random.randint(1,11,10)\n",
    "arr2 = np.arange(1,11)\n",
    "\n",
    "addition_result = np.add(arr1,arr2)\n",
    "print(addition_result)"
   ]
  },
  {
   "cell_type": "code",
   "execution_count": 6,
   "id": "a6e0fe37-c74a-40f0-8e1b-a2c490967cf2",
   "metadata": {},
   "outputs": [
    {
     "name": "stdout",
     "output_type": "stream",
     "text": [
      "[ 9  7  5  3  1 -1 -3 -5 -7 -9]\n"
     ]
    }
   ],
   "source": [
    "#Answer-52\n",
    "arr1 = np.arange(10, 0, -1)\n",
    "arr2 = np.arange(1, 11)\n",
    "\n",
    "subtraction_result = np.subtract(arr1, arr2)\n",
    "print(subtraction_result)\n"
   ]
  },
  {
   "cell_type": "code",
   "execution_count": 10,
   "id": "81e607c3-512c-41c4-8f52-f9df63633b47",
   "metadata": {},
   "outputs": [
    {
     "name": "stdout",
     "output_type": "stream",
     "text": [
      "[ 4  8 12 16 20]\n"
     ]
    }
   ],
   "source": [
    "#Answer-53\n",
    "arr1 = np.random.randint(1,5,1)\n",
    "arr2 = np.arange(1,6)\n",
    "\n",
    "multiplication = np.multiply(arr1,arr2)\n",
    "print(multiplication)"
   ]
  },
  {
   "cell_type": "code",
   "execution_count": 11,
   "id": "11a8b6b6-c9c4-487f-b273-c8b38f3e353d",
   "metadata": {},
   "outputs": [
    {
     "name": "stdout",
     "output_type": "stream",
     "text": [
      "[2. 2. 2. 2. 2.]\n"
     ]
    }
   ],
   "source": [
    "#Answer-54\n",
    "\n",
    "arr1 = np.arange(2,11,2)\n",
    "arr2 = np.arange(1,6)\n",
    "\n",
    "division_result = np.divide(arr1,arr2)\n",
    "print(division_result)"
   ]
  },
  {
   "cell_type": "code",
   "execution_count": 13,
   "id": "71049841-2641-47db-aebb-2fba350ef13f",
   "metadata": {},
   "outputs": [
    {
     "name": "stdout",
     "output_type": "stream",
     "text": [
      "[1 8 9 4]\n"
     ]
    }
   ],
   "source": [
    "#Answer-55\n",
    "arr1 = np.arange(1,5,1)\n",
    "arr2 = np.flip(arr1)\n",
    "\n",
    "exponentiation_result = np.power(arr1,arr2)\n",
    "print(exponentiation_result)"
   ]
  },
  {
   "cell_type": "code",
   "execution_count": 16,
   "id": "c389fd2a-109e-48d0-a420-5384b4dcfb95",
   "metadata": {},
   "outputs": [
    {
     "name": "stdout",
     "output_type": "stream",
     "text": [
      "[1 0 1 0 1]\n"
     ]
    }
   ],
   "source": [
    "#Answer-56\n",
    "def count_substring(arr,substring):\n",
    "    return np.char.count(arr,substring)\n",
    "\n",
    "arr = np.array(['hello', 'world', 'hello', 'numpy', 'hello'])\n",
    "substring_count = count_substring(arr,'hello')\n",
    "print(substring_count)"
   ]
  },
  {
   "cell_type": "code",
   "execution_count": 26,
   "id": "95924c3e-7629-4cd1-8659-58b13cd594dc",
   "metadata": {},
   "outputs": [
    {
     "name": "stdout",
     "output_type": "stream",
     "text": [
      "['H', 'W', 'OAI', 'GPT']\n"
     ]
    }
   ],
   "source": [
    "#Answer-57\n",
    "def extract_uppercase(arr):\n",
    "    return [\"\".join([char for char in string if char.isupper()]) for string in arr]\n",
    "\n",
    "\n",
    "arr = np.array(['Hello', 'World', 'OpenAI', 'GPT'])\n",
    "uppercase_chars = extract_uppercase(arr)\n",
    "print(uppercase_chars)"
   ]
  },
  {
   "cell_type": "code",
   "execution_count": 27,
   "id": "4abe8e14-2f11-4aaa-af6c-3e73a1270e9e",
   "metadata": {},
   "outputs": [
    {
     "name": "stdout",
     "output_type": "stream",
     "text": [
      "['fruit' 'banana' 'grape' 'pinefruit']\n"
     ]
    }
   ],
   "source": [
    "#Answer-58\n",
    "\n",
    "def replace_substring(arr, old_substring, new_substring):\n",
    "    return np.char.replace(arr, old_substring, new_substring)\n",
    "\n",
    "arr = np.array(['apple', 'banana', 'grape', 'pineapple'])\n",
    "replaced_array = replace_substring(arr, 'apple', 'fruit')\n",
    "print(replaced_array)"
   ]
  },
  {
   "cell_type": "code",
   "execution_count": 29,
   "id": "8acf3efe-edba-4a0b-ae1c-a13233b95ba9",
   "metadata": {},
   "outputs": [
    {
     "name": "stdout",
     "output_type": "stream",
     "text": [
      "['HelloOpen' 'WorldAI']\n"
     ]
    }
   ],
   "source": [
    "#Answer-59\n",
    "def concatenate_strings(arr1, arr2):\n",
    "    return np.char.add(arr1, arr2)\n",
    "\n",
    "arr1 = np.array(['Hello', 'World'])\n",
    "arr2 = np.array(['Open', 'AI'])\n",
    "concatenated_strings = concatenate_strings(arr1, arr2)\n",
    "print(concatenated_strings)"
   ]
  },
  {
   "cell_type": "code",
   "execution_count": 30,
   "id": "7a672ec8-34b4-4181-ac09-f61dd53fb34c",
   "metadata": {},
   "outputs": [
    {
     "name": "stdout",
     "output_type": "stream",
     "text": [
      "9\n"
     ]
    }
   ],
   "source": [
    "#Answer-60\n",
    "def longest_string_length(arr):\n",
    "    string_lengths = np.char.str_len(arr)\n",
    "    return np.max(string_lengths)\n",
    "\n",
    "arr = np.array(['apple', 'banana', 'grape', 'pineapple'])\n",
    "longest_length = longest_string_length(arr)\n",
    "print(longest_length)"
   ]
  },
  {
   "cell_type": "code",
   "execution_count": 32,
   "id": "7ba38732-d19c-4ba3-8245-8a2eb9ec47e5",
   "metadata": {},
   "outputs": [
    {
     "name": "stdout",
     "output_type": "stream",
     "text": [
      "498.89 493.5 93993.09790000001 306.58293804450375\n"
     ]
    }
   ],
   "source": [
    "#Answer-61\n",
    "\n",
    "dataset = np.random.randint(1, 1001, 100)\n",
    "mean_value = np.mean(dataset)\n",
    "median_value = np.median(dataset)\n",
    "variance_value = np.var(dataset)\n",
    "std_deviation = np.std(dataset)\n",
    "\n",
    "print(mean_value, median_value, variance_value, std_deviation)"
   ]
  },
  {
   "cell_type": "code",
   "execution_count": 36,
   "id": "30e49b86-71c7-43be-b973-35c5d9620519",
   "metadata": {},
   "outputs": [
    {
     "name": "stdout",
     "output_type": "stream",
     "text": [
      "24.0 60.75\n"
     ]
    }
   ],
   "source": [
    "#Answer-62\n",
    "random_array = np.random.randint(1, 101, 50)\n",
    "percentile_25 = np.percentile(random_array, 25)\n",
    "percentile_75 = np.percentile(random_array, 75)\n",
    "print(percentile_25, percentile_75)"
   ]
  },
  {
   "cell_type": "code",
   "execution_count": 38,
   "id": "49320f32-96cb-401d-9eb4-423321c2f6b9",
   "metadata": {},
   "outputs": [
    {
     "name": "stdout",
     "output_type": "stream",
     "text": [
      "[[1.        0.6000896]\n",
      " [0.6000896 1.       ]]\n"
     ]
    }
   ],
   "source": [
    "#Answer-63\n",
    "arr1 = np.random.rand(10)\n",
    "arr2 = np.random.rand(10)\n",
    "\n",
    "correlation_coefficient = np.corrcoef(arr1, arr2)\n",
    "print(correlation_coefficient)\n"
   ]
  },
  {
   "cell_type": "code",
   "execution_count": 39,
   "id": "ac58c43f-1d2d-4bcf-bf54-9006499ad61c",
   "metadata": {},
   "outputs": [
    {
     "name": "stdout",
     "output_type": "stream",
     "text": [
      "[[0.60071776 0.90118285 0.52059979]\n",
      " [0.84513226 1.05575612 0.53325928]\n",
      " [0.49708689 0.95412417 0.5690085 ]]\n"
     ]
    }
   ],
   "source": [
    "#Answer-64\n",
    "\n",
    "matrix1 = np.random.rand(3, 3)\n",
    "matrix2 = np.random.rand(3, 3)\n",
    "\n",
    "matrix_product = np.dot(matrix1, matrix2)\n",
    "print(matrix_product)"
   ]
  },
  {
   "cell_type": "code",
   "execution_count": 40,
   "id": "70c4fd4e-cf72-4a08-8a8f-bb1192651248",
   "metadata": {},
   "outputs": [
    {
     "name": "stdout",
     "output_type": "stream",
     "text": [
      "135.9 499.5 836.4 301.25 698.0\n"
     ]
    }
   ],
   "source": [
    "#Answer-65\n",
    "\n",
    "int_array = np.random.randint(10, 1001, 50)\n",
    "\n",
    "percentile_10 = np.percentile(int_array, 10)\n",
    "percentile_50 = np.percentile(int_array, 50)\n",
    "percentile_90 = np.percentile(int_array, 90)\n",
    "quartile_1 = np.percentile(int_array, 25)\n",
    "quartile_3 = np.percentile(int_array, 75)\n",
    "\n",
    "print(percentile_10, percentile_50, percentile_90, quartile_1, quartile_3)"
   ]
  },
  {
   "cell_type": "code",
   "execution_count": 41,
   "id": "42f20192-8996-4e7e-b3e9-98b99d9432fb",
   "metadata": {},
   "outputs": [
    {
     "name": "stdout",
     "output_type": "stream",
     "text": [
      "(array([2]),)\n"
     ]
    }
   ],
   "source": [
    "#Answer-66\n",
    "\n",
    "arr = np.array([10,20,30,40,50])\n",
    "index = np.where(arr == 30)\n",
    "print(index)"
   ]
  },
  {
   "cell_type": "code",
   "execution_count": 42,
   "id": "da3ee8c9-7141-4ea1-a40e-72fb43d8cc2a",
   "metadata": {},
   "outputs": [
    {
     "name": "stdout",
     "output_type": "stream",
     "text": [
      "[ 2 12 19 25 34 45 53 59 78 86]\n"
     ]
    }
   ],
   "source": [
    "#Answer-67\n",
    "\n",
    "random_array = np.random.randint(1, 100, 10)\n",
    "sorted_array = np.sort(random_array)\n",
    "print(sorted_array)"
   ]
  },
  {
   "cell_type": "code",
   "execution_count": 47,
   "id": "6dfe93f9-dade-4f84-914b-f23551554109",
   "metadata": {},
   "outputs": [
    {
     "name": "stdout",
     "output_type": "stream",
     "text": [
      "[25 42 30]\n"
     ]
    }
   ],
   "source": [
    "#Answer-68\n",
    "\n",
    "arr = np.array([12, 25, 6, 42, 8, 30])\n",
    "\n",
    "filtered_array = arr[arr > 20]\n",
    "print(filtered_array)"
   ]
  },
  {
   "cell_type": "code",
   "execution_count": 48,
   "id": "7c948c06-1bed-40d2-bbab-b292faf94736",
   "metadata": {},
   "outputs": [
    {
     "name": "stdout",
     "output_type": "stream",
     "text": [
      "[12 15]\n"
     ]
    }
   ],
   "source": [
    "#Answer-69\n",
    "\n",
    "arr = np.array([1, 5, 8, 12, 15])\n",
    "\n",
    "filtered_array = arr[arr % 3 == 0]\n",
    "print(filtered_array)"
   ]
  },
  {
   "cell_type": "code",
   "execution_count": 53,
   "id": "c2ac05e4-18d7-4548-ba6e-74cffcb8ba90",
   "metadata": {},
   "outputs": [
    {
     "name": "stdout",
     "output_type": "stream",
     "text": [
      "[20 30 40]\n"
     ]
    }
   ],
   "source": [
    "#Answer-70\n",
    "arr = np.array([10, 20, 30, 40, 50])\n",
    "filter_elements = arr[(arr >= 20 ) & (arr <= 40)]\n",
    "print(filter_elements)"
   ]
  },
  {
   "cell_type": "code",
   "execution_count": 5,
   "id": "51ff22af-6835-4eeb-b991-3e126411594a",
   "metadata": {},
   "outputs": [
    {
     "name": "stdout",
     "output_type": "stream",
     "text": [
      "=\n"
     ]
    }
   ],
   "source": [
    "#Answer-71\n",
    "arr = np.array([1, 2, 3])\n",
    "byte_order = arr.dtype.byteorder\n",
    "print(byte_order)"
   ]
  },
  {
   "cell_type": "code",
   "execution_count": 44,
   "id": "b1709e34-b9f6-4964-9d9d-5cf2c5bd6581",
   "metadata": {},
   "outputs": [
    {
     "name": "stdout",
     "output_type": "stream",
     "text": [
      "[16777216 33554432 50331648]\n"
     ]
    }
   ],
   "source": [
    "#Answer-72\n",
    "arr = np.array([1, 2, 3], dtype=np.int32)\n",
    "arr.byteswap(inplace=True)\n",
    "print(arr)"
   ]
  },
  {
   "cell_type": "code",
   "execution_count": null,
   "id": "ae291752-ee97-4161-9260-e48d599719fa",
   "metadata": {},
   "outputs": [],
   "source": [
    "#Answer-73\n",
    "arr = np.array([1, 2, 3], dtype=np.int32)\n",
    "swapped_arr = arr.newbyteorder()\n",
    "print(swapped_arr)"
   ]
  },
  {
   "cell_type": "code",
   "execution_count": null,
   "id": "4d867337-c3b9-4327-9872-8953dfc88db3",
   "metadata": {},
   "outputs": [],
   "source": [
    "#Answer-74\n",
    "arr = np.array([1, 2, 3], dtype=np.int32)\n",
    "\n",
    "if arr.dtype.byteorder == '=':\n",
    "    swapped_arr = arr.newbyteorder()\n",
    "else:\n",
    "    swapped_arr = arr\n",
    "print(swapped_arr)"
   ]
  },
  {
   "cell_type": "code",
   "execution_count": 41,
   "id": "f29252ef-d8d8-48b8-82ad-ae49c6477880",
   "metadata": {},
   "outputs": [
    {
     "name": "stdout",
     "output_type": "stream",
     "text": [
      "Byte swapping is necessary.\n"
     ]
    }
   ],
   "source": [
    "#Answer-75\n",
    "\n",
    "arr = np.array([1, 2, 3], dtype=np.int32)\n",
    "byte_order = arr.dtype.byteorder\n",
    "if byte_order == '=':\n",
    "    print(\"Byte swapping is necessary.\")\n",
    "else:\n",
    "    print(\"Byte swapping is not necessary.\")\n"
   ]
  },
  {
   "cell_type": "code",
   "execution_count": 19,
   "id": "e0e0d3fe-f498-4258-a1dc-008be1e1865e",
   "metadata": {},
   "outputs": [
    {
     "name": "stdout",
     "output_type": "stream",
     "text": [
      "Orginal array: [ 1  2  3  4  5  6  7  8  9 10]\n",
      "Modified copy: [100   2   3   4   5   6   7   8   9  10]\n"
     ]
    }
   ],
   "source": [
    "#Answer-76\n",
    "arr1 = np.arange(1,11)\n",
    "copy_arr = arr1.copy()\n",
    "copy_arr[0] = 100\n",
    "print(\"Orginal array:\",arr1)\n",
    "print(\"Modified copy:\",copy_arr)"
   ]
  },
  {
   "cell_type": "code",
   "execution_count": 28,
   "id": "1ecdd095-60fb-4df3-8741-c5bd59626ddd",
   "metadata": {},
   "outputs": [
    {
     "name": "stdout",
     "output_type": "stream",
     "text": [
      "Original matrix:\n",
      " [[  2 100   6]\n",
      " [  1   4   2]\n",
      " [  1   2   3]]\n",
      "Modified slice:\n",
      " [[100   6]\n",
      " [  4   2]\n",
      " [  2   3]]\n"
     ]
    }
   ],
   "source": [
    "#Answer-77\n",
    "matrix = np.random.randint(1,10,(3,3))\n",
    "view_slice = matrix[:,1:3]\n",
    "view_slice[0,0] = 100\n",
    "print(\"Original matrix:\\n\",matrix)\n",
    "print(\"Modified slice:\\n\",view_slice)"
   ]
  },
  {
   "cell_type": "code",
   "execution_count": 31,
   "id": "621e2096-2870-48e7-8be0-3eb48930a562",
   "metadata": {},
   "outputs": [
    {
     "name": "stdout",
     "output_type": "stream",
     "text": [
      "Original array:\n",
      " [[ 1  7  8]\n",
      " [ 4 10 11]\n",
      " [ 7 13 14]\n",
      " [10 16 17]]\n",
      "Modified view:\n",
      " [[ 7  8]\n",
      " [10 11]\n",
      " [13 14]\n",
      " [16 17]]\n"
     ]
    }
   ],
   "source": [
    "#Answer-78\n",
    "array_a = np.arange(1, 13).reshape(4, 3)\n",
    "view_b = array_a[:, 1:3]\n",
    "view_b += 5\n",
    "print(\"Original array:\\n\", array_a)\n",
    "print(\"Modified view:\\n\", view_b)"
   ]
  },
  {
   "cell_type": "code",
   "execution_count": 33,
   "id": "823066af-3ef7-4361-8c16-6c95df6418e1",
   "metadata": {},
   "outputs": [
    {
     "name": "stdout",
     "output_type": "stream",
     "text": [
      "Original array:\n",
      " [[100   2   3   4]\n",
      " [  5   6   7   8]]\n",
      "Reshaped view:\n",
      " [[100   2]\n",
      " [  3   4]\n",
      " [  5   6]\n",
      " [  7   8]]\n"
     ]
    }
   ],
   "source": [
    "#Answer-79\n",
    "orig_array = np.arange(1, 9).reshape(2, 4)\n",
    "reshaped_view = orig_array.reshape(4, 2)\n",
    "reshaped_view[0, 0] = 100\n",
    "print(\"Original array:\\n\", orig_array)\n",
    "print(\"Reshaped view:\\n\", reshaped_view)"
   ]
  },
  {
   "cell_type": "code",
   "execution_count": 34,
   "id": "71465efa-5fe9-485b-b85c-0fc2dd035813",
   "metadata": {},
   "outputs": [
    {
     "name": "stdout",
     "output_type": "stream",
     "text": [
      "Original data:\n",
      " [[8 1 6 8]\n",
      " [8 6 4 4]\n",
      " [8 2 1 9]]\n",
      "Modified copy:\n",
      " [100   6   8   8   6   8   9]\n"
     ]
    }
   ],
   "source": [
    "#Answer-80\n",
    "data = np.random.randint(1, 10, (3, 4))\n",
    "data_copy = data[data > 5].copy()\n",
    "data_copy[0] = 100\n",
    "print(\"Original data:\\n\", data)\n",
    "print(\"Modified copy:\\n\", data_copy)"
   ]
  },
  {
   "cell_type": "code",
   "execution_count": 35,
   "id": "3606d4c1-1a76-474b-a9fc-83923cfabf24",
   "metadata": {},
   "outputs": [
    {
     "name": "stdout",
     "output_type": "stream",
     "text": [
      "Matrix A:\n",
      " [[4 7 8]\n",
      " [1 3 3]\n",
      " [1 3 8]]\n",
      "Matrix B:\n",
      " [[9 3 6]\n",
      " [8 4 4]\n",
      " [9 4 4]]\n",
      "Matrix Addition:\n",
      " [[13 10 14]\n",
      " [ 9  7  7]\n",
      " [10  7 12]]\n",
      "Matrix Subtraction:\n",
      " [[-5  4  2]\n",
      " [-7 -1 -1]\n",
      " [-8 -1  4]]\n"
     ]
    }
   ],
   "source": [
    "#Answer-81\n",
    "A = np.random.randint(1, 10, (3, 3))\n",
    "B = np.random.randint(1, 10, (3, 3))\n",
    "\n",
    "matrix_addition = A + B\n",
    "matrix_subtraction = A - B\n",
    "\n",
    "print(\"Matrix A:\\n\", A)\n",
    "print(\"Matrix B:\\n\", B)\n",
    "print(\"Matrix Addition:\\n\", matrix_addition)\n",
    "print(\"Matrix Subtraction:\\n\", matrix_subtraction)"
   ]
  },
  {
   "cell_type": "code",
   "execution_count": 36,
   "id": "b33ce5e2-6b58-4c97-9a17-212dd6fd0090",
   "metadata": {},
   "outputs": [
    {
     "name": "stdout",
     "output_type": "stream",
     "text": [
      "[[38 46 52 45]\n",
      " [48 64 62 55]\n",
      " [33 53 37 35]]\n"
     ]
    }
   ],
   "source": [
    "#Answer-82\n",
    "C = np.random.randint(1, 10, (3, 2))\n",
    "D = np.random.randint(1, 10, (2, 4))\n",
    "\n",
    "matrix_multiplication = np.dot(C, D)\n",
    "print(matrix_multiplication)"
   ]
  },
  {
   "cell_type": "code",
   "execution_count": 37,
   "id": "147290f7-b2cf-4010-9177-aff645e1fc86",
   "metadata": {},
   "outputs": [
    {
     "name": "stdout",
     "output_type": "stream",
     "text": [
      "Original matrix:\n",
      " [[2 5 5]\n",
      " [2 6 6]\n",
      " [2 1 6]]\n",
      "Transpose:\n",
      " [[2 2 2]\n",
      " [5 6 1]\n",
      " [5 6 6]]\n"
     ]
    }
   ],
   "source": [
    "#Answer-83\n",
    "E = np.random.randint(1, 10, (3, 3))\n",
    "\n",
    "transpose_E = E.T\n",
    "print(\"Original matrix:\\n\", E)\n",
    "print(\"Transpose:\\n\", transpose_E)"
   ]
  },
  {
   "cell_type": "code",
   "execution_count": 39,
   "id": "7c24649f-45d6-4b74-877d-e318105d5253",
   "metadata": {},
   "outputs": [
    {
     "name": "stdout",
     "output_type": "stream",
     "text": [
      "Matrix F:\n",
      " [[9 1 4]\n",
      " [7 7 1]\n",
      " [5 5 2]]\n",
      "Determinant: 72.0\n"
     ]
    }
   ],
   "source": [
    "#Answer-84\n",
    "F = np.random.randint(1, 10, (3, 3))\n",
    "determinant_F = np.linalg.det(F)\n",
    "print(\"Matrix F:\\n\", F)\n",
    "print(\"Determinant:\", determinant_F)"
   ]
  },
  {
   "cell_type": "code",
   "execution_count": 40,
   "id": "3994ce38-3acc-4a8b-b206-77877cac3952",
   "metadata": {},
   "outputs": [
    {
     "name": "stdout",
     "output_type": "stream",
     "text": [
      "Matrix G:\n",
      " [[8 7 7]\n",
      " [6 7 4]\n",
      " [1 7 8]]\n",
      "Inverse:\n",
      " [[ 0.17391304 -0.04347826 -0.13043478]\n",
      " [-0.27329193  0.35403727  0.0621118 ]\n",
      " [ 0.2173913  -0.30434783  0.08695652]]\n"
     ]
    }
   ],
   "source": [
    "#Answer-85\n",
    "G = np.random.randint(1, 10, (3, 3))\n",
    "inverse_G = np.linalg.inv(G)\n",
    "print(\"Matrix G:\\n\", G)\n",
    "print(\"Inverse:\\n\", inverse_G)"
   ]
  },
  {
   "cell_type": "code",
   "execution_count": null,
   "id": "194850e3-3cad-452c-ad3a-64dd76965cdd",
   "metadata": {},
   "outputs": [],
   "source": []
  }
 ],
 "metadata": {
  "kernelspec": {
   "display_name": "Python 3 (ipykernel)",
   "language": "python",
   "name": "python3"
  },
  "language_info": {
   "codemirror_mode": {
    "name": "ipython",
    "version": 3
   },
   "file_extension": ".py",
   "mimetype": "text/x-python",
   "name": "python",
   "nbconvert_exporter": "python",
   "pygments_lexer": "ipython3",
   "version": "3.12.6"
  }
 },
 "nbformat": 4,
 "nbformat_minor": 5
}
